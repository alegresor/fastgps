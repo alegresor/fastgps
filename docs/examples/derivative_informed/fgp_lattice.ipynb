{
 "cells": [
  {
   "cell_type": "markdown",
   "metadata": {},
   "source": [
    "# Fast Lattice GP"
   ]
  },
  {
   "cell_type": "code",
   "execution_count": 1,
   "metadata": {
    "execution": {
     "iopub.execute_input": "2025-06-03T04:58:17.504428Z",
     "iopub.status.busy": "2025-06-03T04:58:17.504315Z",
     "iopub.status.idle": "2025-06-03T04:58:18.830223Z",
     "shell.execute_reply": "2025-06-03T04:58:18.829879Z"
    }
   },
   "outputs": [],
   "source": [
    "import fastgps\n",
    "import qmcpy as qp\n",
    "import torch\n",
    "import numpy as np"
   ]
  },
  {
   "cell_type": "code",
   "execution_count": 2,
   "metadata": {
    "execution": {
     "iopub.execute_input": "2025-06-03T04:58:18.831927Z",
     "iopub.status.busy": "2025-06-03T04:58:18.831799Z",
     "iopub.status.idle": "2025-06-03T04:58:18.833716Z",
     "shell.execute_reply": "2025-06-03T04:58:18.833454Z"
    }
   },
   "outputs": [],
   "source": [
    "torch.set_default_dtype(torch.float64)"
   ]
  },
  {
   "cell_type": "markdown",
   "metadata": {},
   "source": [
    "## True Function"
   ]
  },
  {
   "cell_type": "code",
   "execution_count": 3,
   "metadata": {
    "execution": {
     "iopub.execute_input": "2025-06-03T04:58:18.835217Z",
     "iopub.status.busy": "2025-06-03T04:58:18.835097Z",
     "iopub.status.idle": "2025-06-03T04:58:18.838928Z",
     "shell.execute_reply": "2025-06-03T04:58:18.838609Z"
    }
   },
   "outputs": [
    {
     "name": "stdout",
     "output_type": "stream",
     "text": [
      "x.shape = (128, 2)\n",
      "y.shape = (3, 128)\n",
      "z.shape = (256, 2)\n"
     ]
    }
   ],
   "source": [
    "d = 2\n",
    "f = lambda x: x[:,1]*torch.sin(x[:,0])+x[:,0]*torch.cos(x[:,1])\n",
    "f0 = lambda x: x[:,1]*torch.cos(x[:,0])+torch.cos(x[:,1])\n",
    "f1 = lambda x: torch.sin(x[:,0])-x[:,0]*torch.sin(x[:,1])\n",
    "derivatives = [\n",
    "    torch.tensor([0,0]),\n",
    "    torch.tensor([1,0]),\n",
    "    torch.tensor([0,1]),\n",
    "]\n",
    "rng = torch.Generator().manual_seed(17)\n",
    "x = torch.rand((2**7,d),generator=rng) # random testing locations\n",
    "y = torch.cat([f(x)[None,:],f0(x)[None,:],f1(x)[None,:]],dim=0) # true values at random testing locations\n",
    "z = torch.rand((2**8,d),generator=rng) # other random locations at which to evaluate covariance\n",
    "print(\"x.shape = %s\"%str(tuple(x.shape)))\n",
    "print(\"y.shape = %s\"%str(tuple(y.shape)))\n",
    "print(\"z.shape = %s\"%str(tuple(z.shape)))"
   ]
  },
  {
   "cell_type": "markdown",
   "metadata": {},
   "source": [
    "## Construct Fast GP"
   ]
  },
  {
   "cell_type": "code",
   "execution_count": 4,
   "metadata": {
    "execution": {
     "iopub.execute_input": "2025-06-03T04:58:18.856312Z",
     "iopub.status.busy": "2025-06-03T04:58:18.856174Z",
     "iopub.status.idle": "2025-06-03T04:58:18.866207Z",
     "shell.execute_reply": "2025-06-03T04:58:18.865904Z"
    }
   },
   "outputs": [
    {
     "name": "stdout",
     "output_type": "stream",
     "text": [
      "i = 0\n",
      "\tx_next[0].shape = (64, 2)\n",
      "\ty_next[0].shape = (64,)\n",
      "i = 1\n",
      "\tx_next[1].shape = (8, 2)\n",
      "\ty_next[1].shape = (8,)\n",
      "i = 2\n",
      "\tx_next[2].shape = (256, 2)\n",
      "\ty_next[2].shape = (256,)\n"
     ]
    }
   ],
   "source": [
    "fgp = fastgps.FastGPLattice(\n",
    "    qp.KernelMultiTaskDerivs(\n",
    "        qp.KernelShiftInvar(d,torchify=True,alpha=2),\n",
    "        num_tasks=len(derivatives),\n",
    "        ),\n",
    "    seqs = 7,\n",
    "    derivatives = derivatives,)\n",
    "x_next = fgp.get_x_next(n=[2**6,2**3,2**8])\n",
    "y_next = [f(x_next[0]),f0(x_next[1]),f1(x_next[2])]\n",
    "fgp.add_y_next(y_next)\n",
    "assert len(x_next)==len(y_next)\n",
    "for i in range(len(x_next)):\n",
    "    print(\"i = %d\"%i)\n",
    "    print(\"\\tx_next[%d].shape = %s\"%(i,str(tuple(x_next[i].shape))))\n",
    "    print(\"\\ty_next[%d].shape = %s\"%(i,str(tuple(y_next[i].shape))))"
   ]
  },
  {
   "cell_type": "code",
   "execution_count": 5,
   "metadata": {
    "execution": {
     "iopub.execute_input": "2025-06-03T04:58:18.867896Z",
     "iopub.status.busy": "2025-06-03T04:58:18.867776Z",
     "iopub.status.idle": "2025-06-03T04:58:18.885664Z",
     "shell.execute_reply": "2025-06-03T04:58:18.885309Z"
    }
   },
   "outputs": [
    {
     "name": "stdout",
     "output_type": "stream",
     "text": [
      "pmean.shape = (3, 128)\n",
      "l2 relative error = tensor([0.2317, 4.4932, 4.7753])\n"
     ]
    }
   ],
   "source": [
    "pmean = fgp.post_mean(x)\n",
    "print(\"pmean.shape = %s\"%str(tuple(pmean.shape)))\n",
    "print(\"l2 relative error =\",(torch.linalg.norm(y-pmean,dim=1)/torch.linalg.norm(y,dim=1)))"
   ]
  },
  {
   "cell_type": "code",
   "execution_count": 6,
   "metadata": {
    "execution": {
     "iopub.execute_input": "2025-06-03T04:58:18.887286Z",
     "iopub.status.busy": "2025-06-03T04:58:18.887071Z",
     "iopub.status.idle": "2025-06-03T04:58:19.817156Z",
     "shell.execute_reply": "2025-06-03T04:58:19.816863Z"
    }
   },
   "outputs": [
    {
     "name": "stdout",
     "output_type": "stream",
     "text": [
      "     iter of 5.0e+03 | best loss  | loss       | term1      | term2     \n",
      "    ~~~~~~~~~~~~~~~~~~~~~~~~~~~~~~~~~~~~~~~~~~~~~~~~~~~~~~~~~~~~~~~~~~~~\n",
      "            0.00e+00 | 7.68e+02   | 7.68e+02   | 3.51e+01   | 8.98e+02  \n",
      "            5.00e+00 | 5.49e+02   | 5.49e+02   | 2.58e+02   | 2.37e+02  \n",
      "            1.00e+01 | 5.42e+02   | 5.42e+02   | 2.87e+02   | 1.94e+02  \n",
      "            1.50e+01 | 5.22e+02   | 5.22e+02   | 3.19e+02   | 1.21e+02  \n",
      "            2.00e+01 | 4.79e+02   | 4.79e+02   | 2.99e+02   | 5.73e+01  \n",
      "            2.50e+01 | 4.07e+02   | 4.07e+02   | 3.01e+02   | -9.08e+01 \n",
      "            3.00e+01 | 2.37e+02   | 2.37e+02   | 4.59e+02   | -5.88e+02 \n",
      "            3.50e+01 | 2.11e+02   | 2.11e+02   | 3.09e+02   | -4.89e+02 \n",
      "            4.00e+01 | 2.11e+02   | 2.12e+02   | 3.01e+02   | -4.80e+02 \n",
      "            4.50e+01 | 2.11e+02   | 2.11e+02   | 3.20e+02   | -5.01e+02 \n",
      "            5.00e+01 | 2.11e+02   | 2.11e+02   | 3.21e+02   | -5.01e+02 \n",
      "            5.50e+01 | 2.11e+02   | 2.11e+02   | 3.27e+02   | -5.08e+02 \n",
      "            6.00e+01 | 2.11e+02   | 2.11e+02   | 3.33e+02   | -5.14e+02 \n",
      "            6.40e+01 | 2.11e+02   | 2.11e+02   | 3.27e+02   | -5.08e+02 \n"
     ]
    },
    {
     "data": {
      "text/plain": [
       "[]"
      ]
     },
     "execution_count": 6,
     "metadata": {},
     "output_type": "execute_result"
    }
   ],
   "source": [
    "data = fgp.fit()\n",
    "list(data.keys())"
   ]
  },
  {
   "cell_type": "code",
   "execution_count": 7,
   "metadata": {
    "execution": {
     "iopub.execute_input": "2025-06-03T04:58:19.818427Z",
     "iopub.status.busy": "2025-06-03T04:58:19.818306Z",
     "iopub.status.idle": "2025-06-03T04:58:19.992289Z",
     "shell.execute_reply": "2025-06-03T04:58:19.992024Z"
    }
   },
   "outputs": [
    {
     "name": "stdout",
     "output_type": "stream",
     "text": [
      "pmean.shape = (3, 128)\n",
      "pvar.shape = (3, 128)\n",
      "q = 2.58\n",
      "ci_low.shape = (3, 128)\n",
      "ci_high.shape = (3, 128)\n",
      "l2 relative error = tensor([ 0.1363, 12.1602,  1.0216])\n",
      "pcov.shape = (3, 3, 128, 128)\n",
      "pcov2.shape = (3, 3, 128, 256)\n"
     ]
    }
   ],
   "source": [
    "pmean,pvar,q,ci_low,ci_high = fgp.post_ci(x,confidence=0.99)\n",
    "print(\"pmean.shape = %s\"%str(tuple(pmean.shape)))\n",
    "print(\"pvar.shape = %s\"%str(tuple(pvar.shape)))\n",
    "print(\"q = %.2f\"%q)\n",
    "print(\"ci_low.shape = %s\"%str(tuple(ci_low.shape)))\n",
    "print(\"ci_high.shape = %s\"%str(tuple(ci_high.shape)))\n",
    "print(\"l2 relative error =\",(torch.linalg.norm(y-pmean,dim=1)/torch.linalg.norm(y,dim=1)))\n",
    "pcov = fgp.post_cov(x,x)\n",
    "print(\"pcov.shape = %s\"%str(tuple(pcov.shape)))\n",
    "_range0,_rangen1 = torch.arange(pcov.size(0)),torch.arange(pcov.size(-1))\n",
    "assert torch.allclose(pcov[_range0,_range0][:,_rangen1,_rangen1],pvar) and (pvar>=0).all()\n",
    "pcov2 = fgp.post_cov(x,z)\n",
    "print(\"pcov2.shape = %s\"%str(tuple(pcov2.shape)))"
   ]
  },
  {
   "cell_type": "code",
   "execution_count": 8,
   "metadata": {
    "execution": {
     "iopub.execute_input": "2025-06-03T04:58:19.993780Z",
     "iopub.status.busy": "2025-06-03T04:58:19.993664Z",
     "iopub.status.idle": "2025-06-03T04:58:19.997116Z",
     "shell.execute_reply": "2025-06-03T04:58:19.996847Z"
    }
   },
   "outputs": [
    {
     "name": "stdout",
     "output_type": "stream",
     "text": [
      "pcmean = tensor([240.3550, 240.3550, 240.3550])\n",
      "pcvar = tensor([0., 0., 0.])\n",
      "cci_low = tensor([240.3550, 240.3550, 240.3550])\n",
      "cci_high tensor([240.3550, 240.3550, 240.3550])\n"
     ]
    }
   ],
   "source": [
    "pcmean,pcvar,q,cci_low,cci_high = fgp.post_cubature_ci(confidence=0.99)\n",
    "print(\"pcmean =\",pcmean)\n",
    "print(\"pcvar =\",pcvar)\n",
    "print(\"cci_low =\",cci_low)\n",
    "print(\"cci_high\",cci_high)"
   ]
  },
  {
   "cell_type": "markdown",
   "metadata": {},
   "source": [
    "## Project and Increase Sample Size"
   ]
  },
  {
   "cell_type": "code",
   "execution_count": 9,
   "metadata": {
    "execution": {
     "iopub.execute_input": "2025-06-03T04:58:19.998529Z",
     "iopub.status.busy": "2025-06-03T04:58:19.998410Z",
     "iopub.status.idle": "2025-06-03T04:58:20.769371Z",
     "shell.execute_reply": "2025-06-03T04:58:20.768964Z"
    }
   },
   "outputs": [],
   "source": [
    "n_new = fgp.n*torch.tensor([4,2,8])\n",
    "pcov_future = fgp.post_cov(x,z,n=n_new)\n",
    "pvar_future = fgp.post_var(x,n=n_new)\n",
    "pcvar_future = fgp.post_cubature_var(n=n_new)"
   ]
  },
  {
   "cell_type": "code",
   "execution_count": 10,
   "metadata": {
    "execution": {
     "iopub.execute_input": "2025-06-03T04:58:20.770944Z",
     "iopub.status.busy": "2025-06-03T04:58:20.770825Z",
     "iopub.status.idle": "2025-06-03T04:58:21.532345Z",
     "shell.execute_reply": "2025-06-03T04:58:21.532084Z"
    }
   },
   "outputs": [
    {
     "name": "stdout",
     "output_type": "stream",
     "text": [
      "torch.Size([192])\n",
      "torch.Size([8])\n",
      "torch.Size([1792])\n",
      "l2 relative error = tensor([ 0.1199, 23.1693,  1.0979])\n"
     ]
    }
   ],
   "source": [
    "x_next = fgp.get_x_next(n_new)\n",
    "y_next = [f(x_next[0]),f0(x_next[1]),f1(x_next[2])]\n",
    "for _y in y_next:\n",
    "    print(_y.shape)\n",
    "fgp.add_y_next(y_next)\n",
    "print(\"l2 relative error =\",(torch.linalg.norm(y-fgp.post_mean(x),dim=1)/torch.linalg.norm(y,dim=1)))\n",
    "assert torch.allclose(fgp.post_cov(x,z),pcov_future)\n",
    "assert torch.allclose(fgp.post_var(x),pvar_future)\n",
    "assert torch.allclose(fgp.post_cubature_var(),pcvar_future)"
   ]
  },
  {
   "cell_type": "code",
   "execution_count": 11,
   "metadata": {
    "execution": {
     "iopub.execute_input": "2025-06-03T04:58:21.534030Z",
     "iopub.status.busy": "2025-06-03T04:58:21.533887Z",
     "iopub.status.idle": "2025-06-03T04:58:22.339308Z",
     "shell.execute_reply": "2025-06-03T04:58:22.339065Z"
    }
   },
   "outputs": [
    {
     "name": "stdout",
     "output_type": "stream",
     "text": [
      "l2 relative error = tensor([ 0.1294, 27.2264,  1.0124])\n"
     ]
    }
   ],
   "source": [
    "data = fgp.fit(verbose=False)\n",
    "print(\"l2 relative error =\",(torch.linalg.norm(y-fgp.post_mean(x),dim=1)/torch.linalg.norm(y,dim=1)))"
   ]
  },
  {
   "cell_type": "code",
   "execution_count": 12,
   "metadata": {
    "execution": {
     "iopub.execute_input": "2025-06-03T04:58:22.340727Z",
     "iopub.status.busy": "2025-06-03T04:58:22.340604Z",
     "iopub.status.idle": "2025-06-03T04:58:24.629632Z",
     "shell.execute_reply": "2025-06-03T04:58:24.629295Z"
    }
   },
   "outputs": [],
   "source": [
    "n_new = fgp.n*torch.tensor([4,8,2])\n",
    "pcov_new = fgp.post_cov(x,z,n=n_new)\n",
    "pvar_new = fgp.post_var(x,n=n_new)\n",
    "pcvar_new = fgp.post_cubature_var(n=n_new)\n",
    "x_next = fgp.get_x_next(n_new)\n",
    "y_next = [f(x_next[0]),f0(x_next[1]),f1(x_next[2])]\n",
    "fgp.add_y_next(y_next)\n",
    "assert torch.allclose(fgp.post_cov(x,z),pcov_new)\n",
    "assert torch.allclose(fgp.post_var(x),pvar_new)\n",
    "assert torch.allclose(fgp.post_cubature_var(),pcvar_new)"
   ]
  },
  {
   "cell_type": "code",
   "execution_count": null,
   "metadata": {},
   "outputs": [],
   "source": []
  }
 ],
 "metadata": {
  "kernelspec": {
   "display_name": "fastgps",
   "language": "python",
   "name": "python3"
  },
  "language_info": {
   "codemirror_mode": {
    "name": "ipython",
    "version": 3
   },
   "file_extension": ".py",
   "mimetype": "text/x-python",
   "name": "python",
   "nbconvert_exporter": "python",
   "pygments_lexer": "ipython3",
   "version": "3.13.2"
  }
 },
 "nbformat": 4,
 "nbformat_minor": 2
}
