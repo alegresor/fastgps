{
 "cells": [
  {
   "cell_type": "markdown",
   "metadata": {},
   "source": [
    "# Fast Net GP"
   ]
  },
  {
   "cell_type": "code",
   "execution_count": 1,
   "metadata": {
    "execution": {
     "iopub.execute_input": "2025-06-03T04:56:14.316178Z",
     "iopub.status.busy": "2025-06-03T04:56:14.315934Z",
     "iopub.status.idle": "2025-06-03T04:56:15.512547Z",
     "shell.execute_reply": "2025-06-03T04:56:15.512246Z"
    }
   },
   "outputs": [],
   "source": [
    "import fastgps\n",
    "import qmcpy as qp\n",
    "import torch\n",
    "import numpy as np"
   ]
  },
  {
   "cell_type": "code",
   "execution_count": 2,
   "metadata": {
    "execution": {
     "iopub.execute_input": "2025-06-03T04:56:15.514129Z",
     "iopub.status.busy": "2025-06-03T04:56:15.514005Z",
     "iopub.status.idle": "2025-06-03T04:56:15.515901Z",
     "shell.execute_reply": "2025-06-03T04:56:15.515686Z"
    }
   },
   "outputs": [],
   "source": [
    "device = \"cpu\"\n",
    "if device!=\"mps\":\n",
    "    torch.set_default_dtype(torch.float64)"
   ]
  },
  {
   "cell_type": "markdown",
   "metadata": {},
   "source": [
    "## True Function"
   ]
  },
  {
   "cell_type": "code",
   "execution_count": 3,
   "metadata": {
    "execution": {
     "iopub.execute_input": "2025-06-03T04:56:15.517018Z",
     "iopub.status.busy": "2025-06-03T04:56:15.516948Z",
     "iopub.status.idle": "2025-06-03T04:56:15.519983Z",
     "shell.execute_reply": "2025-06-03T04:56:15.519777Z"
    }
   },
   "outputs": [
    {
     "name": "stdout",
     "output_type": "stream",
     "text": [
      "x.shape = (128, 1)\n",
      "y.shape = (128,)\n",
      "z.shape = (256, 1)\n"
     ]
    }
   ],
   "source": [
    "def f_ackley(x, a=20, b=0.2, c=2*np.pi, scaling=32.768):\n",
    "    # https://www.sfu.ca/~ssurjano/ackley.html\n",
    "    assert x.ndim==2\n",
    "    x = 2*scaling*x-scaling\n",
    "    t1 = a*torch.exp(-b*torch.sqrt(torch.mean(x**2,1)))\n",
    "    t2 = torch.exp(torch.mean(torch.cos(c*x),1))\n",
    "    t3 = a+np.exp(1)\n",
    "    y = -t1-t2+t3\n",
    "    return y\n",
    "d = 1 # dimension\n",
    "rng = torch.Generator().manual_seed(17)\n",
    "x = torch.rand((2**7,d),generator=rng).to(device) # random testing locations\n",
    "y = f_ackley(x) # true values at random testing locations\n",
    "z = torch.rand((2**8,d),generator=rng).to(device) # other random locations at which to evaluate covariance\n",
    "print(\"x.shape = %s\"%str(tuple(x.shape)))\n",
    "print(\"y.shape = %s\"%str(tuple(y.shape)))\n",
    "print(\"z.shape = %s\"%str(tuple(z.shape)))"
   ]
  },
  {
   "cell_type": "markdown",
   "metadata": {},
   "source": [
    "## Construct Fast GP"
   ]
  },
  {
   "cell_type": "code",
   "execution_count": 4,
   "metadata": {
    "execution": {
     "iopub.execute_input": "2025-06-03T04:56:15.535713Z",
     "iopub.status.busy": "2025-06-03T04:56:15.535549Z",
     "iopub.status.idle": "2025-06-03T04:56:15.654041Z",
     "shell.execute_reply": "2025-06-03T04:56:15.653826Z"
    }
   },
   "outputs": [
    {
     "name": "stdout",
     "output_type": "stream",
     "text": [
      "x_next.shape = (1024, 1)\n",
      "y_next.shape = (1024,)\n"
     ]
    }
   ],
   "source": [
    "fgp = fastgps.FastGPDigitalNetB2(qp.KernelDigShiftInvar(d,torchify=True,device=device),seqs=7)\n",
    "x_next = fgp.get_x_next(2**10)\n",
    "y_next = f_ackley(x_next)\n",
    "fgp.add_y_next(y_next)\n",
    "print(\"x_next.shape = %s\"%str(tuple(x_next.shape)))\n",
    "print(\"y_next.shape = %s\"%str(tuple(y_next.shape)))"
   ]
  },
  {
   "cell_type": "code",
   "execution_count": 5,
   "metadata": {
    "execution": {
     "iopub.execute_input": "2025-06-03T04:56:15.655181Z",
     "iopub.status.busy": "2025-06-03T04:56:15.655113Z",
     "iopub.status.idle": "2025-06-03T04:56:15.664038Z",
     "shell.execute_reply": "2025-06-03T04:56:15.663812Z"
    }
   },
   "outputs": [
    {
     "name": "stdout",
     "output_type": "stream",
     "text": [
      "pmean.shape = (128,)\n",
      "l2 relative error = 8.37e-03\n"
     ]
    }
   ],
   "source": [
    "pmean = fgp.post_mean(x)\n",
    "print(\"pmean.shape = %s\"%str(tuple(pmean.shape)))\n",
    "print(\"l2 relative error = %.2e\"%(torch.linalg.norm(y-pmean)/torch.linalg.norm(y)))"
   ]
  },
  {
   "cell_type": "code",
   "execution_count": 6,
   "metadata": {
    "execution": {
     "iopub.execute_input": "2025-06-03T04:56:15.665089Z",
     "iopub.status.busy": "2025-06-03T04:56:15.665022Z",
     "iopub.status.idle": "2025-06-03T04:56:16.311196Z",
     "shell.execute_reply": "2025-06-03T04:56:16.310945Z"
    }
   },
   "outputs": [
    {
     "name": "stdout",
     "output_type": "stream",
     "text": [
      "     iter of 5.0e+03 | best loss  | loss       | term1      | term2     \n",
      "    ~~~~~~~~~~~~~~~~~~~~~~~~~~~~~~~~~~~~~~~~~~~~~~~~~~~~~~~~~~~~~~~~~~~~\n",
      "            0.00e+00 | 1.11e+04   | 1.11e+04   | 2.44e+04   | -4.01e+03 \n",
      "            5.00e+00 | 2.49e+03   | 2.49e+03   | 5.59e+03   | -2.48e+03 \n",
      "            1.00e+01 | 1.10e+03   | 1.12e+03   | 1.35e+03   | -9.97e+02 \n",
      "            1.50e+01 | 1.10e+03   | 1.10e+03   | 1.02e+03   | -7.03e+02 \n",
      "            2.00e+01 | 1.10e+03   | 1.10e+03   | 1.01e+03   | -6.99e+02 \n",
      "            2.50e+01 | 1.09e+03   | 1.09e+03   | 1.02e+03   | -7.18e+02 \n",
      "            3.00e+01 | 1.09e+03   | 1.09e+03   | 1.02e+03   | -7.22e+02 \n",
      "            3.50e+01 | 1.09e+03   | 1.09e+03   | 1.07e+03   | -7.75e+02 \n",
      "            4.00e+01 | 1.09e+03   | 1.09e+03   | 1.07e+03   | -7.74e+02 \n",
      "            4.50e+01 | 1.08e+03   | 1.08e+03   | 1.06e+03   | -7.74e+02 \n",
      "            5.00e+01 | 1.08e+03   | 1.08e+03   | 1.04e+03   | -7.74e+02 \n",
      "            5.50e+01 | 1.07e+03   | 1.07e+03   | 1.03e+03   | -7.72e+02 \n",
      "            6.00e+01 | 1.07e+03   | 1.09e+03   | 7.68e+02   | -4.77e+02 \n",
      "            6.50e+01 | 1.07e+03   | 1.07e+03   | 9.12e+02   | -6.53e+02 \n",
      "            6.70e+01 | 1.07e+03   | 1.07e+03   | 1.10e+03   | -8.47e+02 \n"
     ]
    },
    {
     "data": {
      "text/plain": [
       "[]"
      ]
     },
     "execution_count": 6,
     "metadata": {},
     "output_type": "execute_result"
    }
   ],
   "source": [
    "data = fgp.fit()\n",
    "list(data.keys())"
   ]
  },
  {
   "cell_type": "code",
   "execution_count": 7,
   "metadata": {
    "execution": {
     "iopub.execute_input": "2025-06-03T04:56:16.312415Z",
     "iopub.status.busy": "2025-06-03T04:56:16.312298Z",
     "iopub.status.idle": "2025-06-03T04:56:16.402302Z",
     "shell.execute_reply": "2025-06-03T04:56:16.402047Z"
    }
   },
   "outputs": [
    {
     "name": "stdout",
     "output_type": "stream",
     "text": [
      "pmean.shape = (128,)\n",
      "pvar.shape = (128,)\n",
      "q = 2.58\n",
      "ci_low.shape = (128,)\n",
      "ci_high.shape = (128,)\n",
      "l2 relative error = 8.43e-03\n",
      "pcov.shape = (128, 128)\n",
      "pcov2.shape = (128, 256)\n",
      "\n",
      "pcov diag matches pvar: True\n",
      "non-negative pvar: True\n"
     ]
    }
   ],
   "source": [
    "pmean,pvar,q,ci_low,ci_high = fgp.post_ci(x,confidence=0.99)\n",
    "print(\"pmean.shape = %s\"%str(tuple(pmean.shape)))\n",
    "print(\"pvar.shape = %s\"%str(tuple(pvar.shape)))\n",
    "print(\"q = %.2f\"%q)\n",
    "print(\"ci_low.shape = %s\"%str(tuple(ci_low.shape)))\n",
    "print(\"ci_high.shape = %s\"%str(tuple(ci_high.shape)))\n",
    "print(\"l2 relative error = %.2e\"%(torch.linalg.norm(y-pmean)/torch.linalg.norm(y)))\n",
    "pcov = fgp.post_cov(x,x)\n",
    "print(\"pcov.shape = %s\"%str(tuple(pcov.shape)))\n",
    "pcov2 = fgp.post_cov(x,z)\n",
    "print(\"pcov2.shape = %s\"%str(tuple(pcov2.shape)))\n",
    "print(\"\\npcov diag matches pvar: %s\"%torch.allclose(pcov.diagonal(),pvar))\n",
    "print(\"non-negative pvar: %s\"%(pvar>=0).all().item())"
   ]
  },
  {
   "cell_type": "code",
   "execution_count": 8,
   "metadata": {
    "execution": {
     "iopub.execute_input": "2025-06-03T04:56:16.403531Z",
     "iopub.status.busy": "2025-06-03T04:56:16.403423Z",
     "iopub.status.idle": "2025-06-03T04:56:16.406158Z",
     "shell.execute_reply": "2025-06-03T04:56:16.405953Z"
    }
   },
   "outputs": [
    {
     "name": "stdout",
     "output_type": "stream",
     "text": [
      "pcmean = 1.841e+01\n",
      "pcvar = 2.298e-02\n",
      "cci_low = 1.802e+01\n",
      "cci_high = 1.880e+01\n"
     ]
    }
   ],
   "source": [
    "pcmean,pcvar,q,cci_low,cci_high = fgp.post_cubature_ci(confidence=0.99)\n",
    "print(\"pcmean = %.3e\"%pcmean)\n",
    "print(\"pcvar = %.3e\"%pcvar)\n",
    "print(\"cci_low = %.3e\"%cci_low)\n",
    "print(\"cci_high = %.3e\"%cci_high)"
   ]
  },
  {
   "cell_type": "markdown",
   "metadata": {},
   "source": [
    "## Project and Increase Sample Size"
   ]
  },
  {
   "cell_type": "code",
   "execution_count": 9,
   "metadata": {
    "execution": {
     "iopub.execute_input": "2025-06-03T04:56:16.407362Z",
     "iopub.status.busy": "2025-06-03T04:56:16.407282Z",
     "iopub.status.idle": "2025-06-03T04:56:16.496273Z",
     "shell.execute_reply": "2025-06-03T04:56:16.495940Z"
    }
   },
   "outputs": [],
   "source": [
    "pcov_future = fgp.post_cov(x,z,n=2*fgp.n)\n",
    "pvar_future = fgp.post_var(x,n=2*fgp.n)\n",
    "pcvar_future = fgp.post_cubature_var(n=2*fgp.n)"
   ]
  },
  {
   "cell_type": "code",
   "execution_count": 10,
   "metadata": {
    "execution": {
     "iopub.execute_input": "2025-06-03T04:56:16.497659Z",
     "iopub.status.busy": "2025-06-03T04:56:16.497577Z",
     "iopub.status.idle": "2025-06-03T04:56:16.594675Z",
     "shell.execute_reply": "2025-06-03T04:56:16.594350Z"
    }
   },
   "outputs": [
    {
     "name": "stdout",
     "output_type": "stream",
     "text": [
      "l2 relative error = 4.73e-03\n"
     ]
    }
   ],
   "source": [
    "x_next = fgp.get_x_next(2*fgp.n)\n",
    "y_next = f_ackley(x_next)\n",
    "fgp.add_y_next(y_next)\n",
    "print(\"l2 relative error = %.2e\"%(torch.linalg.norm(y-fgp.post_mean(x))/torch.linalg.norm(y)))\n",
    "assert torch.allclose(fgp.post_cov(x,z),pcov_future)\n",
    "assert torch.allclose(fgp.post_var(x),pvar_future)\n",
    "assert torch.allclose(fgp.post_cubature_var(),pcvar_future)"
   ]
  },
  {
   "cell_type": "code",
   "execution_count": 11,
   "metadata": {
    "execution": {
     "iopub.execute_input": "2025-06-03T04:56:16.596000Z",
     "iopub.status.busy": "2025-06-03T04:56:16.595922Z",
     "iopub.status.idle": "2025-06-03T04:56:16.632149Z",
     "shell.execute_reply": "2025-06-03T04:56:16.631928Z"
    }
   },
   "outputs": [
    {
     "name": "stdout",
     "output_type": "stream",
     "text": [
      "l2 relative error = 4.73e-03\n"
     ]
    }
   ],
   "source": [
    "data = fgp.fit(verbose=False)\n",
    "print(\"l2 relative error = %.2e\"%(torch.linalg.norm(y-fgp.post_mean(x))/torch.linalg.norm(y)))"
   ]
  },
  {
   "cell_type": "code",
   "execution_count": 12,
   "metadata": {
    "execution": {
     "iopub.execute_input": "2025-06-03T04:56:16.633382Z",
     "iopub.status.busy": "2025-06-03T04:56:16.633305Z",
     "iopub.status.idle": "2025-06-03T04:56:19.479497Z",
     "shell.execute_reply": "2025-06-03T04:56:19.479151Z"
    }
   },
   "outputs": [],
   "source": [
    "pcov_8n = fgp.post_cov(x,z,n=8*fgp.n)\n",
    "pvar_8n = fgp.post_var(x,n=8*fgp.n)\n",
    "pcvar_8n = fgp.post_cubature_var(n=8*fgp.n)\n",
    "x_next = fgp.get_x_next(8*fgp.n)\n",
    "y_next = f_ackley(x_next)\n",
    "fgp.add_y_next(y_next)\n",
    "assert torch.allclose(fgp.post_cov(x,z),pcov_8n)\n",
    "assert torch.allclose(fgp.post_var(x),pvar_8n)\n",
    "assert torch.allclose(fgp.post_cubature_var(),pcvar_8n)"
   ]
  },
  {
   "cell_type": "code",
   "execution_count": null,
   "metadata": {},
   "outputs": [],
   "source": []
  }
 ],
 "metadata": {
  "kernelspec": {
   "display_name": "fastgps",
   "language": "python",
   "name": "python3"
  },
  "language_info": {
   "codemirror_mode": {
    "name": "ipython",
    "version": 3
   },
   "file_extension": ".py",
   "mimetype": "text/x-python",
   "name": "python",
   "nbconvert_exporter": "python",
   "pygments_lexer": "ipython3",
   "version": "3.13.2"
  }
 },
 "nbformat": 4,
 "nbformat_minor": 2
}
