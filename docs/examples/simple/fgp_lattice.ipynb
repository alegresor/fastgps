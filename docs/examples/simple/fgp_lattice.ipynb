{
 "cells": [
  {
   "cell_type": "markdown",
   "metadata": {},
   "source": [
    "# Fast Lattice GP"
   ]
  },
  {
   "cell_type": "code",
   "execution_count": 1,
   "metadata": {
    "execution": {
     "iopub.execute_input": "2025-06-03T04:56:21.673143Z",
     "iopub.status.busy": "2025-06-03T04:56:21.672930Z",
     "iopub.status.idle": "2025-06-03T04:56:22.779751Z",
     "shell.execute_reply": "2025-06-03T04:56:22.779480Z"
    }
   },
   "outputs": [],
   "source": [
    "import fastgps\n",
    "import torch\n",
    "import numpy as np"
   ]
  },
  {
   "cell_type": "code",
   "execution_count": 2,
   "metadata": {
    "execution": {
     "iopub.execute_input": "2025-06-03T04:56:22.781158Z",
     "iopub.status.busy": "2025-06-03T04:56:22.781060Z",
     "iopub.status.idle": "2025-06-03T04:56:22.782786Z",
     "shell.execute_reply": "2025-06-03T04:56:22.782575Z"
    }
   },
   "outputs": [],
   "source": [
    "torch.set_default_dtype(torch.float64)"
   ]
  },
  {
   "cell_type": "markdown",
   "metadata": {},
   "source": [
    "## True Function"
   ]
  },
  {
   "cell_type": "code",
   "execution_count": 3,
   "metadata": {
    "execution": {
     "iopub.execute_input": "2025-06-03T04:56:22.783854Z",
     "iopub.status.busy": "2025-06-03T04:56:22.783787Z",
     "iopub.status.idle": "2025-06-03T04:56:22.786566Z",
     "shell.execute_reply": "2025-06-03T04:56:22.786332Z"
    }
   },
   "outputs": [
    {
     "name": "stdout",
     "output_type": "stream",
     "text": [
      "x.shape = (128, 1)\n",
      "y.shape = (128,)\n",
      "z.shape = (256, 1)\n"
     ]
    }
   ],
   "source": [
    "def f_ackley(x, a=20, b=0.2, c=2*np.pi, scaling=32.768):\n",
    "    # https://www.sfu.ca/~ssurjano/ackley.html\n",
    "    assert x.ndim==2\n",
    "    x = 2*scaling*x-scaling\n",
    "    t1 = a*torch.exp(-b*torch.sqrt(torch.mean(x**2,1)))\n",
    "    t2 = torch.exp(torch.mean(torch.cos(c*x),1))\n",
    "    t3 = a+np.exp(1)\n",
    "    y = -t1-t2+t3\n",
    "    return y\n",
    "d = 1 # dimension\n",
    "rng = torch.Generator().manual_seed(17)\n",
    "x = torch.rand((2**7,d),generator=rng) # random testing locations\n",
    "y = f_ackley(x) # true values at random testing locations\n",
    "z = torch.rand((2**8,d),generator=rng) # other random locations at which to evaluate covariance\n",
    "print(\"x.shape = %s\"%str(tuple(x.shape)))\n",
    "print(\"y.shape = %s\"%str(tuple(y.shape)))\n",
    "print(\"z.shape = %s\"%str(tuple(z.shape)))"
   ]
  },
  {
   "cell_type": "markdown",
   "metadata": {},
   "source": [
    "## Construct Fast GP"
   ]
  },
  {
   "cell_type": "code",
   "execution_count": 4,
   "metadata": {
    "execution": {
     "iopub.execute_input": "2025-06-03T04:56:22.802446Z",
     "iopub.status.busy": "2025-06-03T04:56:22.802333Z",
     "iopub.status.idle": "2025-06-03T04:56:22.807566Z",
     "shell.execute_reply": "2025-06-03T04:56:22.807383Z"
    }
   },
   "outputs": [
    {
     "name": "stdout",
     "output_type": "stream",
     "text": [
      "x_next.shape = (1024, 1)\n",
      "y_next.shape = (1024,)\n"
     ]
    }
   ],
   "source": [
    "fgp = fastgps.FastGPLattice(d,seed_for_seq=7)\n",
    "x_next = fgp.get_x_next(2**10)\n",
    "y_next = f_ackley(x_next)\n",
    "fgp.add_y_next(y_next)\n",
    "print(\"x_next.shape = %s\"%str(tuple(x_next.shape)))\n",
    "print(\"y_next.shape = %s\"%str(tuple(y_next.shape)))"
   ]
  },
  {
   "cell_type": "code",
   "execution_count": 5,
   "metadata": {
    "execution": {
     "iopub.execute_input": "2025-06-03T04:56:22.808514Z",
     "iopub.status.busy": "2025-06-03T04:56:22.808447Z",
     "iopub.status.idle": "2025-06-03T04:56:22.815634Z",
     "shell.execute_reply": "2025-06-03T04:56:22.815430Z"
    }
   },
   "outputs": [
    {
     "name": "stdout",
     "output_type": "stream",
     "text": [
      "pmean.shape = (128,)\n",
      "l2 relative error = 1.96e-04\n"
     ]
    }
   ],
   "source": [
    "pmean = fgp.post_mean(x)\n",
    "print(\"pmean.shape = %s\"%str(tuple(pmean.shape)))\n",
    "print(\"l2 relative error = %.2e\"%(torch.linalg.norm(y-pmean)/torch.linalg.norm(y)))"
   ]
  },
  {
   "cell_type": "code",
   "execution_count": 6,
   "metadata": {
    "execution": {
     "iopub.execute_input": "2025-06-03T04:56:22.816706Z",
     "iopub.status.busy": "2025-06-03T04:56:22.816610Z",
     "iopub.status.idle": "2025-06-03T04:56:23.481063Z",
     "shell.execute_reply": "2025-06-03T04:56:23.480769Z"
    }
   },
   "outputs": [
    {
     "name": "stdout",
     "output_type": "stream",
     "text": [
      "     iter of 5.0e+03 | loss       | term1      | term2     \n",
      "    ~~~~~~~~~~~~~~~~~~~~~~~~~~~~~~~~~~~~~~~~~~~~~~~~~~~~~~~\n",
      "            0.00e+00 | 1.24e+07   | 2.48e+07   | -1.43e+04 \n",
      "            5.00e+00 | 2.79e+06   | 5.59e+06   | -1.27e+04 \n",
      "            1.00e+01 | 6.53e+04   | 1.38e+05   | -8.95e+03 \n",
      "            1.50e+01 | -4.01e+01  | 1.80e+02   | -2.14e+03 \n",
      "            2.00e+01 | -5.10e+02  | 9.92e+02   | -3.89e+03 \n",
      "            2.50e+01 | -5.09e+02  | 9.60e+02   | -3.86e+03 \n",
      "            3.00e+01 | -5.10e+02  | 1.03e+03   | -3.93e+03 \n",
      "            3.50e+01 | -5.10e+02  | 1.03e+03   | -3.93e+03 \n",
      "            4.00e+01 | -5.10e+02  | 1.02e+03   | -3.93e+03 \n"
     ]
    },
    {
     "data": {
      "text/plain": [
       "['iterations']"
      ]
     },
     "execution_count": 6,
     "metadata": {},
     "output_type": "execute_result"
    }
   ],
   "source": [
    "data = fgp.fit()\n",
    "list(data.keys())"
   ]
  },
  {
   "cell_type": "code",
   "execution_count": 7,
   "metadata": {
    "execution": {
     "iopub.execute_input": "2025-06-03T04:56:23.482271Z",
     "iopub.status.busy": "2025-06-03T04:56:23.482113Z",
     "iopub.status.idle": "2025-06-03T04:56:23.546863Z",
     "shell.execute_reply": "2025-06-03T04:56:23.546585Z"
    }
   },
   "outputs": [
    {
     "name": "stdout",
     "output_type": "stream",
     "text": [
      "pmean.shape = (128,)\n",
      "pvar.shape = (128,)\n",
      "q = 2.58\n",
      "ci_low.shape = (128,)\n",
      "ci_high.shape = (128,)\n",
      "l2 relative error = 1.96e-04\n",
      "pcov.shape = (128, 128)\n",
      "pcov2.shape = (128, 256)\n"
     ]
    }
   ],
   "source": [
    "pmean,pvar,q,ci_low,ci_high = fgp.post_ci(x,confidence=0.99)\n",
    "print(\"pmean.shape = %s\"%str(tuple(pmean.shape)))\n",
    "print(\"pvar.shape = %s\"%str(tuple(pvar.shape)))\n",
    "print(\"q = %.2f\"%q)\n",
    "print(\"ci_low.shape = %s\"%str(tuple(ci_low.shape)))\n",
    "print(\"ci_high.shape = %s\"%str(tuple(ci_high.shape)))\n",
    "print(\"l2 relative error = %.2e\"%(torch.linalg.norm(y-pmean)/torch.linalg.norm(y)))\n",
    "pcov = fgp.post_cov(x,x)\n",
    "print(\"pcov.shape = %s\"%str(tuple(pcov.shape)))\n",
    "assert torch.allclose(pcov.diagonal(),pvar) and (pvar>=0).all()\n",
    "pcov2 = fgp.post_cov(x,z)\n",
    "print(\"pcov2.shape = %s\"%str(tuple(pcov2.shape)))"
   ]
  },
  {
   "cell_type": "code",
   "execution_count": 8,
   "metadata": {
    "execution": {
     "iopub.execute_input": "2025-06-03T04:56:23.548157Z",
     "iopub.status.busy": "2025-06-03T04:56:23.548074Z",
     "iopub.status.idle": "2025-06-03T04:56:23.550961Z",
     "shell.execute_reply": "2025-06-03T04:56:23.550768Z"
    }
   },
   "outputs": [
    {
     "name": "stdout",
     "output_type": "stream",
     "text": [
      "pcmean = 1.841e+01\n",
      "pcvar = 4.764e-08\n",
      "cci_low = 1.841e+01\n",
      "cci_high = 1.841e+01\n"
     ]
    }
   ],
   "source": [
    "pcmean,pcvar,q,cci_low,cci_high = fgp.post_cubature_ci(confidence=0.99)\n",
    "print(\"pcmean = %.3e\"%pcmean)\n",
    "print(\"pcvar = %.3e\"%pcvar)\n",
    "print(\"cci_low = %.3e\"%cci_low)\n",
    "print(\"cci_high = %.3e\"%cci_high)"
   ]
  },
  {
   "cell_type": "markdown",
   "metadata": {},
   "source": [
    "## Project and Increase Sample Size"
   ]
  },
  {
   "cell_type": "code",
   "execution_count": 9,
   "metadata": {
    "execution": {
     "iopub.execute_input": "2025-06-03T04:56:23.552126Z",
     "iopub.status.busy": "2025-06-03T04:56:23.552047Z",
     "iopub.status.idle": "2025-06-03T04:56:23.611396Z",
     "shell.execute_reply": "2025-06-03T04:56:23.611114Z"
    }
   },
   "outputs": [],
   "source": [
    "pcov_future = fgp.post_cov(x,z,n=2*fgp.n)\n",
    "pvar_future = fgp.post_var(x,n=2*fgp.n)\n",
    "pcvar_future = fgp.post_cubature_var(n=2*fgp.n)"
   ]
  },
  {
   "cell_type": "code",
   "execution_count": 10,
   "metadata": {
    "execution": {
     "iopub.execute_input": "2025-06-03T04:56:23.612606Z",
     "iopub.status.busy": "2025-06-03T04:56:23.612529Z",
     "iopub.status.idle": "2025-06-03T04:56:23.669629Z",
     "shell.execute_reply": "2025-06-03T04:56:23.669371Z"
    }
   },
   "outputs": [
    {
     "name": "stdout",
     "output_type": "stream",
     "text": [
      "l2 relative error = 6.43e-06\n"
     ]
    }
   ],
   "source": [
    "x_next = fgp.get_x_next(2*fgp.n)\n",
    "y_next = f_ackley(x_next)\n",
    "fgp.add_y_next(y_next)\n",
    "print(\"l2 relative error = %.2e\"%(torch.linalg.norm(y-fgp.post_mean(x))/torch.linalg.norm(y)))\n",
    "assert torch.allclose(fgp.post_cov(x,z),pcov_future)\n",
    "assert torch.allclose(fgp.post_var(x),pvar_future)\n",
    "assert torch.allclose(fgp.post_cubature_var(),pcvar_future)"
   ]
  },
  {
   "cell_type": "code",
   "execution_count": 11,
   "metadata": {
    "execution": {
     "iopub.execute_input": "2025-06-03T04:56:23.671143Z",
     "iopub.status.busy": "2025-06-03T04:56:23.671058Z",
     "iopub.status.idle": "2025-06-03T04:56:23.694041Z",
     "shell.execute_reply": "2025-06-03T04:56:23.693800Z"
    }
   },
   "outputs": [
    {
     "name": "stdout",
     "output_type": "stream",
     "text": [
      "l2 relative error = 6.43e-06\n"
     ]
    }
   ],
   "source": [
    "data = fgp.fit(verbose=False)\n",
    "print(\"l2 relative error = %.2e\"%(torch.linalg.norm(y-fgp.post_mean(x))/torch.linalg.norm(y)))"
   ]
  },
  {
   "cell_type": "code",
   "execution_count": 12,
   "metadata": {
    "execution": {
     "iopub.execute_input": "2025-06-03T04:56:23.695176Z",
     "iopub.status.busy": "2025-06-03T04:56:23.695099Z",
     "iopub.status.idle": "2025-06-03T04:56:25.361346Z",
     "shell.execute_reply": "2025-06-03T04:56:25.361037Z"
    }
   },
   "outputs": [],
   "source": [
    "pcov_16n = fgp.post_cov(x,z,n=16*fgp.n)\n",
    "pvar_16n = fgp.post_var(x,n=16*fgp.n)\n",
    "pcvar_16n = fgp.post_cubature_var(n=16*fgp.n)\n",
    "x_next = fgp.get_x_next(16*fgp.n)\n",
    "y_next = f_ackley(x_next)\n",
    "fgp.add_y_next(y_next)\n",
    "assert torch.allclose(fgp.post_cov(x,z),pcov_16n)\n",
    "assert torch.allclose(fgp.post_var(x),pvar_16n)\n",
    "assert torch.allclose(fgp.post_cubature_var(),pcvar_16n)"
   ]
  }
 ],
 "metadata": {
  "kernelspec": {
   "display_name": "Python 3",
   "language": "python",
   "name": "python3"
  },
  "language_info": {
   "codemirror_mode": {
    "name": "ipython",
    "version": 3
   },
   "file_extension": ".py",
   "mimetype": "text/x-python",
   "name": "python",
   "nbconvert_exporter": "python",
   "pygments_lexer": "ipython3",
   "version": "3.13.5"
  }
 },
 "nbformat": 4,
 "nbformat_minor": 2
}
