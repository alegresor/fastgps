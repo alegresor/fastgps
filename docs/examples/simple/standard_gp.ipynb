{
 "cells": [
  {
   "cell_type": "markdown",
   "metadata": {},
   "source": [
    "# Standard GP"
   ]
  },
  {
   "cell_type": "code",
   "execution_count": 1,
   "metadata": {
    "execution": {
     "iopub.execute_input": "2025-06-03T04:56:06.540112Z",
     "iopub.status.busy": "2025-06-03T04:56:06.539622Z",
     "iopub.status.idle": "2025-06-03T04:56:07.628798Z",
     "shell.execute_reply": "2025-06-03T04:56:07.628518Z"
    }
   },
   "outputs": [],
   "source": [
    "import fastgps\n",
    "import qmcpy as qp\n",
    "import torch\n",
    "import numpy as np"
   ]
  },
  {
   "cell_type": "code",
   "execution_count": 2,
   "metadata": {
    "execution": {
     "iopub.execute_input": "2025-06-03T04:56:07.630210Z",
     "iopub.status.busy": "2025-06-03T04:56:07.630106Z",
     "iopub.status.idle": "2025-06-03T04:56:07.631866Z",
     "shell.execute_reply": "2025-06-03T04:56:07.631658Z"
    }
   },
   "outputs": [],
   "source": [
    "torch.set_default_dtype(torch.float64)"
   ]
  },
  {
   "cell_type": "markdown",
   "metadata": {},
   "source": [
    "## True Function"
   ]
  },
  {
   "cell_type": "code",
   "execution_count": 3,
   "metadata": {
    "execution": {
     "iopub.execute_input": "2025-06-03T04:56:07.632977Z",
     "iopub.status.busy": "2025-06-03T04:56:07.632904Z",
     "iopub.status.idle": "2025-06-03T04:56:07.635650Z",
     "shell.execute_reply": "2025-06-03T04:56:07.635439Z"
    }
   },
   "outputs": [
    {
     "name": "stdout",
     "output_type": "stream",
     "text": [
      "x.shape = (128, 1)\n",
      "y.shape = (128,)\n",
      "z.shape = (256, 1)\n"
     ]
    }
   ],
   "source": [
    "def f_ackley(x, a=20, b=0.2, c=2*np.pi, scaling=32.768):\n",
    "    # https://www.sfu.ca/~ssurjano/ackley.html\n",
    "    assert x.ndim==2\n",
    "    x = 2*scaling*x-scaling\n",
    "    t1 = a*torch.exp(-b*torch.sqrt(torch.mean(x**2,1)))\n",
    "    t2 = torch.exp(torch.mean(torch.cos(c*x),1))\n",
    "    t3 = a+np.exp(1)\n",
    "    y = -t1-t2+t3\n",
    "    return y\n",
    "d = 1 # dimension\n",
    "rng = torch.Generator().manual_seed(17)\n",
    "x = torch.rand((2**7,d),generator=rng) # random testing locations\n",
    "y = f_ackley(x) # true values at random testing locations\n",
    "z = torch.rand((2**8,d),generator=rng) # other random locations at which to evaluate covariance\n",
    "print(\"x.shape = %s\"%str(tuple(x.shape)))\n",
    "print(\"y.shape = %s\"%str(tuple(y.shape)))\n",
    "print(\"z.shape = %s\"%str(tuple(z.shape)))"
   ]
  },
  {
   "cell_type": "markdown",
   "metadata": {},
   "source": [
    "## Construct GP"
   ]
  },
  {
   "cell_type": "code",
   "execution_count": 4,
   "metadata": {
    "execution": {
     "iopub.execute_input": "2025-06-03T04:56:07.651185Z",
     "iopub.status.busy": "2025-06-03T04:56:07.651086Z",
     "iopub.status.idle": "2025-06-03T04:56:07.768763Z",
     "shell.execute_reply": "2025-06-03T04:56:07.768521Z"
    }
   },
   "outputs": [
    {
     "name": "stdout",
     "output_type": "stream",
     "text": [
      "x_next.shape = (64, 1)\n",
      "y_next.shape = (64,)\n"
     ]
    }
   ],
   "source": [
    "fgp = fastgps.StandardGP(qp.KernelGaussian(d,torchify=True),seqs=7)\n",
    "x_next = fgp.get_x_next(2**6)\n",
    "y_next = f_ackley(x_next)\n",
    "fgp.add_y_next(y_next)\n",
    "print(\"x_next.shape = %s\"%str(tuple(x_next.shape)))\n",
    "print(\"y_next.shape = %s\"%str(tuple(y_next.shape)))"
   ]
  },
  {
   "cell_type": "code",
   "execution_count": 5,
   "metadata": {
    "execution": {
     "iopub.execute_input": "2025-06-03T04:56:07.770013Z",
     "iopub.status.busy": "2025-06-03T04:56:07.769936Z",
     "iopub.status.idle": "2025-06-03T04:56:07.773870Z",
     "shell.execute_reply": "2025-06-03T04:56:07.773671Z"
    }
   },
   "outputs": [
    {
     "name": "stdout",
     "output_type": "stream",
     "text": [
      "pmean.shape = (128,)\n",
      "l2 relative error = 1.67e-01\n"
     ]
    }
   ],
   "source": [
    "pmean = fgp.post_mean(x)\n",
    "print(\"pmean.shape = %s\"%str(tuple(pmean.shape)))\n",
    "print(\"l2 relative error = %.2e\"%(torch.linalg.norm(y-pmean)/torch.linalg.norm(y)))"
   ]
  },
  {
   "cell_type": "code",
   "execution_count": 6,
   "metadata": {
    "execution": {
     "iopub.execute_input": "2025-06-03T04:56:07.774941Z",
     "iopub.status.busy": "2025-06-03T04:56:07.774875Z",
     "iopub.status.idle": "2025-06-03T04:56:08.366718Z",
     "shell.execute_reply": "2025-06-03T04:56:08.366480Z"
    }
   },
   "outputs": [
    {
     "name": "stdout",
     "output_type": "stream",
     "text": [
      "     iter of 5.0e+03 | best loss  | loss       | term1      | term2     \n",
      "    ~~~~~~~~~~~~~~~~~~~~~~~~~~~~~~~~~~~~~~~~~~~~~~~~~~~~~~~~~~~~~~~~~~~~\n",
      "            0.00e+00 | 4.13e+06   | 4.13e+06   | 8.27e+06   | -5.54e+02 \n",
      "            5.00e+00 | 2.41e+06   | 2.41e+06   | 4.81e+06   | -5.35e+02 \n",
      "            1.00e+01 | 1.94e+05   | 1.94e+05   | 3.89e+05   | -3.53e+02 \n",
      "            1.50e+01 | 2.40e+02   | 2.49e+02   | 3.15e+01   | 3.48e+02  \n",
      "            2.00e+01 | 2.09e+02   | 2.11e+02   | 4.02e+01   | 2.64e+02  \n",
      "            2.50e+01 | 2.05e+02   | 2.07e+02   | 7.10e+01   | 2.25e+02  \n",
      "            3.00e+01 | 2.05e+02   | 2.05e+02   | 5.88e+01   | 2.34e+02  \n",
      "            3.50e+01 | 2.05e+02   | 2.05e+02   | 6.26e+01   | 2.30e+02  \n",
      "            4.00e+01 | 2.05e+02   | 2.05e+02   | 6.35e+01   | 2.29e+02  \n",
      "            4.50e+01 | 2.05e+02   | 2.05e+02   | 6.34e+01   | 2.29e+02  \n",
      "            4.60e+01 | 2.05e+02   | 2.05e+02   | 6.38e+01   | 2.29e+02  \n"
     ]
    },
    {
     "data": {
      "text/plain": [
       "[]"
      ]
     },
     "execution_count": 6,
     "metadata": {},
     "output_type": "execute_result"
    }
   ],
   "source": [
    "data = fgp.fit()\n",
    "list(data.keys())"
   ]
  },
  {
   "cell_type": "code",
   "execution_count": 9,
   "metadata": {
    "execution": {
     "iopub.execute_input": "2025-06-03T04:56:08.367951Z",
     "iopub.status.busy": "2025-06-03T04:56:08.367812Z",
     "iopub.status.idle": "2025-06-03T04:56:08.380311Z",
     "shell.execute_reply": "2025-06-03T04:56:08.380079Z"
    }
   },
   "outputs": [
    {
     "name": "stdout",
     "output_type": "stream",
     "text": [
      "pmean.shape = (128,)\n",
      "pvar.shape = (128,)\n",
      "q = 2.58\n",
      "ci_low.shape = (128,)\n",
      "ci_high.shape = (128,)\n",
      "l2 relative error = 7.31e-02\n",
      "pcov.shape = (128, 128)\n",
      "pcov2.shape = (128, 256)\n"
     ]
    }
   ],
   "source": [
    "pmean,pvar,q,ci_low,ci_high = fgp.post_ci(x,confidence=0.99)\n",
    "print(\"pmean.shape = %s\"%str(tuple(pmean.shape)))\n",
    "print(\"pvar.shape = %s\"%str(tuple(pvar.shape)))\n",
    "print(\"q = %.2f\"%q)\n",
    "print(\"ci_low.shape = %s\"%str(tuple(ci_low.shape)))\n",
    "print(\"ci_high.shape = %s\"%str(tuple(ci_high.shape)))\n",
    "print(\"l2 relative error = %.2e\"%(torch.linalg.norm(y-pmean)/torch.linalg.norm(y)))\n",
    "pcov = fgp.post_cov(x,x)\n",
    "print(\"pcov.shape = %s\"%str(tuple(pcov.shape)))\n",
    "assert torch.allclose(pcov.diagonal(),pvar) and (pvar>=0).all()\n",
    "pcov2 = fgp.post_cov(x,z)\n",
    "print(\"pcov2.shape = %s\"%str(tuple(pcov2.shape)))"
   ]
  },
  {
   "cell_type": "code",
   "execution_count": 10,
   "metadata": {
    "execution": {
     "iopub.execute_input": "2025-06-03T04:56:08.381451Z",
     "iopub.status.busy": "2025-06-03T04:56:08.381377Z",
     "iopub.status.idle": "2025-06-03T04:56:08.383888Z",
     "shell.execute_reply": "2025-06-03T04:56:08.383709Z"
    }
   },
   "outputs": [
    {
     "name": "stdout",
     "output_type": "stream",
     "text": [
      "pcmean = 1.830e+01\n",
      "pcvar = 1.030e-03\n",
      "cci_low = 1.822e+01\n",
      "cci_high = 1.838e+01\n"
     ]
    }
   ],
   "source": [
    "pcmean,pcvar,q,cci_low,cci_high = fgp.post_cubature_ci(confidence=0.99)\n",
    "print(\"pcmean = %.3e\"%pcmean)\n",
    "print(\"pcvar = %.3e\"%pcvar)\n",
    "print(\"cci_low = %.3e\"%cci_low)\n",
    "print(\"cci_high = %.3e\"%cci_high)"
   ]
  },
  {
   "cell_type": "markdown",
   "metadata": {},
   "source": [
    "## Project and Increase Sample Size"
   ]
  },
  {
   "cell_type": "code",
   "execution_count": 11,
   "metadata": {
    "execution": {
     "iopub.execute_input": "2025-06-03T04:56:08.384967Z",
     "iopub.status.busy": "2025-06-03T04:56:08.384902Z",
     "iopub.status.idle": "2025-06-03T04:56:08.398628Z",
     "shell.execute_reply": "2025-06-03T04:56:08.398350Z"
    }
   },
   "outputs": [],
   "source": [
    "pcov_future = fgp.post_cov(x,z,n=2*fgp.n)\n",
    "pvar_future = fgp.post_var(x,n=2*fgp.n)\n",
    "pcvar_future = fgp.post_cubature_var(n=2*fgp.n)"
   ]
  },
  {
   "cell_type": "code",
   "execution_count": 12,
   "metadata": {
    "execution": {
     "iopub.execute_input": "2025-06-03T04:56:08.399854Z",
     "iopub.status.busy": "2025-06-03T04:56:08.399782Z",
     "iopub.status.idle": "2025-06-03T04:56:08.411746Z",
     "shell.execute_reply": "2025-06-03T04:56:08.411526Z"
    }
   },
   "outputs": [
    {
     "name": "stdout",
     "output_type": "stream",
     "text": [
      "l2 relative error = 6.18e-02\n"
     ]
    }
   ],
   "source": [
    "x_next = fgp.get_x_next(2*fgp.n)\n",
    "y_next = f_ackley(x_next)\n",
    "fgp.add_y_next(y_next)\n",
    "print(\"l2 relative error = %.2e\"%(torch.linalg.norm(y-fgp.post_mean(x))/torch.linalg.norm(y)))\n",
    "assert torch.allclose(fgp.post_cov(x,z),pcov_future)\n",
    "assert torch.allclose(fgp.post_var(x),pvar_future)\n",
    "assert torch.allclose(fgp.post_cubature_var(),pcvar_future)"
   ]
  },
  {
   "cell_type": "code",
   "execution_count": 13,
   "metadata": {
    "execution": {
     "iopub.execute_input": "2025-06-03T04:56:08.412801Z",
     "iopub.status.busy": "2025-06-03T04:56:08.412730Z",
     "iopub.status.idle": "2025-06-03T04:56:08.463430Z",
     "shell.execute_reply": "2025-06-03T04:56:08.463052Z"
    }
   },
   "outputs": [
    {
     "name": "stdout",
     "output_type": "stream",
     "text": [
      "l2 relative error = 6.59e-02\n"
     ]
    }
   ],
   "source": [
    "data = fgp.fit(verbose=False)\n",
    "print(\"l2 relative error = %.2e\"%(torch.linalg.norm(y-fgp.post_mean(x))/torch.linalg.norm(y)))"
   ]
  },
  {
   "cell_type": "code",
   "execution_count": 14,
   "metadata": {
    "execution": {
     "iopub.execute_input": "2025-06-03T04:56:08.464850Z",
     "iopub.status.busy": "2025-06-03T04:56:08.464761Z",
     "iopub.status.idle": "2025-06-03T04:56:12.225019Z",
     "shell.execute_reply": "2025-06-03T04:56:12.224682Z"
    }
   },
   "outputs": [],
   "source": [
    "pcov_16n = fgp.post_cov(x,z,n=16*fgp.n)\n",
    "pvar_16n = fgp.post_var(x,n=16*fgp.n)\n",
    "pcvar_16n = fgp.post_cubature_var(n=16*fgp.n)\n",
    "x_next = fgp.get_x_next(16*fgp.n)\n",
    "y_next = f_ackley(x_next)\n",
    "fgp.add_y_next(y_next)\n",
    "assert torch.allclose(fgp.post_cov(x,z),pcov_16n)\n",
    "assert torch.allclose(fgp.post_var(x),pvar_16n)\n",
    "assert torch.allclose(fgp.post_cubature_var(),pcvar_16n)"
   ]
  },
  {
   "cell_type": "code",
   "execution_count": null,
   "metadata": {},
   "outputs": [],
   "source": []
  }
 ],
 "metadata": {
  "kernelspec": {
   "display_name": "fastgps",
   "language": "python",
   "name": "python3"
  },
  "language_info": {
   "codemirror_mode": {
    "name": "ipython",
    "version": 3
   },
   "file_extension": ".py",
   "mimetype": "text/x-python",
   "name": "python",
   "nbconvert_exporter": "python",
   "pygments_lexer": "ipython3",
   "version": "3.13.2"
  }
 },
 "nbformat": 4,
 "nbformat_minor": 2
}
