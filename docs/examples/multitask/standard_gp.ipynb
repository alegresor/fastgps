{
 "cells": [
  {
   "cell_type": "markdown",
   "metadata": {},
   "source": [
    "# Standard GP"
   ]
  },
  {
   "cell_type": "code",
   "execution_count": 1,
   "metadata": {
    "execution": {
     "iopub.execute_input": "2025-06-03T04:56:34.167303Z",
     "iopub.status.busy": "2025-06-03T04:56:34.167117Z",
     "iopub.status.idle": "2025-06-03T04:56:35.291154Z",
     "shell.execute_reply": "2025-06-03T04:56:35.290886Z"
    }
   },
   "outputs": [],
   "source": [
    "import fastgps\n",
    "import torch\n",
    "import numpy as np"
   ]
  },
  {
   "cell_type": "code",
   "execution_count": 2,
   "metadata": {
    "execution": {
     "iopub.execute_input": "2025-06-03T04:56:35.292628Z",
     "iopub.status.busy": "2025-06-03T04:56:35.292503Z",
     "iopub.status.idle": "2025-06-03T04:56:35.294153Z",
     "shell.execute_reply": "2025-06-03T04:56:35.293924Z"
    }
   },
   "outputs": [],
   "source": [
    "torch.set_default_dtype(torch.float64)"
   ]
  },
  {
   "cell_type": "markdown",
   "metadata": {},
   "source": [
    "## True Function"
   ]
  },
  {
   "cell_type": "code",
   "execution_count": 3,
   "metadata": {
    "execution": {
     "iopub.execute_input": "2025-06-03T04:56:35.295322Z",
     "iopub.status.busy": "2025-06-03T04:56:35.295255Z",
     "iopub.status.idle": "2025-06-03T04:56:35.298554Z",
     "shell.execute_reply": "2025-06-03T04:56:35.298312Z"
    }
   },
   "outputs": [
    {
     "name": "stdout",
     "output_type": "stream",
     "text": [
      "x.shape = (128, 1)\n",
      "y.shape = (3, 128)\n",
      "z.shape = (256, 1)\n"
     ]
    }
   ],
   "source": [
    "def f_ackley(x, a=20, b=0.2, c=2*np.pi, scaling=32.768):\n",
    "    # https://www.sfu.ca/~ssurjano/ackley.html\n",
    "    assert x.ndim==2\n",
    "    x = 2*scaling*x-scaling\n",
    "    t1 = a*torch.exp(-b*torch.sqrt(torch.mean(x**2,1)))\n",
    "    t2 = torch.exp(torch.mean(torch.cos(c*x),1))\n",
    "    t3 = a+np.exp(1)\n",
    "    y = -t1-t2+t3\n",
    "    return y\n",
    "f_low_fidelity = lambda x: f_ackley(x,c=0)\n",
    "f_high_fidelity = lambda x: f_ackley(x)\n",
    "f_cos = lambda x: torch.cos(2*np.pi*x).sum(1)\n",
    "fs = [f_low_fidelity,f_high_fidelity,f_cos]\n",
    "d = 1 # dimension\n",
    "rng = torch.Generator().manual_seed(17)\n",
    "x = torch.rand((2**7,d),generator=rng) # random testing locations\n",
    "y = torch.vstack([f(x) for f in fs]) # true values at random testing locations\n",
    "z = torch.rand((2**8,d),generator=rng) # other random locations at which to evaluate covariance\n",
    "print(\"x.shape = %s\"%str(tuple(x.shape)))\n",
    "print(\"y.shape = %s\"%str(tuple(y.shape)))\n",
    "print(\"z.shape = %s\"%str(tuple(z.shape)))"
   ]
  },
  {
   "cell_type": "markdown",
   "metadata": {},
   "source": [
    "## Construct Fast GP"
   ]
  },
  {
   "cell_type": "code",
   "execution_count": 4,
   "metadata": {
    "execution": {
     "iopub.execute_input": "2025-06-03T04:56:35.314012Z",
     "iopub.status.busy": "2025-06-03T04:56:35.313870Z",
     "iopub.status.idle": "2025-06-03T04:56:35.657378Z",
     "shell.execute_reply": "2025-06-03T04:56:35.657043Z"
    }
   },
   "outputs": [
    {
     "name": "stdout",
     "output_type": "stream",
     "text": [
      "i = 0\n",
      "\tx_next[0].shape = (16, 1)\n",
      "\ty_next[0].shape = (16,)\n",
      "i = 1\n",
      "\tx_next[1].shape = (4, 1)\n",
      "\ty_next[1].shape = (4,)\n",
      "i = 2\n",
      "\tx_next[2].shape = (8, 1)\n",
      "\ty_next[2].shape = (8,)\n"
     ]
    }
   ],
   "source": [
    "fgp = fastgps.StandardGP(d,seed_for_seq=7,num_tasks=len(fs))\n",
    "x_next = fgp.get_x_next(n=[2**4,2**2,2**3])\n",
    "y_next = [fs[i](x_next[i]) for i in range(fgp.num_tasks)]\n",
    "fgp.add_y_next(y_next)\n",
    "assert len(x_next)==len(y_next)\n",
    "for i in range(len(x_next)):\n",
    "    print(\"i = %d\"%i)\n",
    "    print(\"\\tx_next[%d].shape = %s\"%(i,str(tuple(x_next[i].shape))))\n",
    "    print(\"\\ty_next[%d].shape = %s\"%(i,str(tuple(y_next[i].shape))))"
   ]
  },
  {
   "cell_type": "code",
   "execution_count": 5,
   "metadata": {
    "execution": {
     "iopub.execute_input": "2025-06-03T04:56:35.658543Z",
     "iopub.status.busy": "2025-06-03T04:56:35.658470Z",
     "iopub.status.idle": "2025-06-03T04:56:35.665647Z",
     "shell.execute_reply": "2025-06-03T04:56:35.665444Z"
    }
   },
   "outputs": [
    {
     "name": "stdout",
     "output_type": "stream",
     "text": [
      "pmean.shape = (3, 128)\n",
      "l2 relative error = tensor([0.1937, 0.2230, 0.1795])\n"
     ]
    }
   ],
   "source": [
    "pmean = fgp.post_mean(x)\n",
    "print(\"pmean.shape = %s\"%str(tuple(pmean.shape)))\n",
    "print(\"l2 relative error =\",(torch.linalg.norm(y-pmean,dim=1)/torch.linalg.norm(y,dim=1)))"
   ]
  },
  {
   "cell_type": "code",
   "execution_count": 6,
   "metadata": {
    "execution": {
     "iopub.execute_input": "2025-06-03T04:56:35.666791Z",
     "iopub.status.busy": "2025-06-03T04:56:35.666715Z",
     "iopub.status.idle": "2025-06-03T04:56:36.385485Z",
     "shell.execute_reply": "2025-06-03T04:56:36.385205Z"
    }
   },
   "outputs": [
    {
     "name": "stdout",
     "output_type": "stream",
     "text": [
      "     iter of 5.0e+03 | loss       | term1      | term2     \n",
      "    ~~~~~~~~~~~~~~~~~~~~~~~~~~~~~~~~~~~~~~~~~~~~~~~~~~~~~~~\n",
      "            0.00e+00 | 3.99e+05   | 7.98e+05   | -1.65e+02 \n",
      "            5.00e+00 | 7.44e+04   | 1.49e+05   | -1.15e+02 \n",
      "            1.00e+01 | 9.98e+01   | 1.04e+02   | 4.44e+01  \n",
      "            1.50e+01 | 6.51e+01   | 2.56e+01   | 5.33e+01  \n",
      "            2.00e+01 | 6.30e+01   | 2.42e+01   | 5.04e+01  \n",
      "            2.50e+01 | 6.04e+01   | 2.43e+01   | 4.50e+01  \n",
      "            3.00e+01 | 5.45e+01   | 2.52e+01   | 3.24e+01  \n",
      "            3.50e+01 | 4.97e+01   | 3.02e+01   | 1.78e+01  \n",
      "            4.00e+01 | 4.95e+01   | 3.01e+01   | 1.76e+01  \n",
      "            4.50e+01 | 4.95e+01   | 3.02e+01   | 1.73e+01  \n",
      "            4.70e+01 | 4.95e+01   | 3.01e+01   | 1.74e+01  \n"
     ]
    },
    {
     "data": {
      "text/plain": [
       "['iterations']"
      ]
     },
     "execution_count": 6,
     "metadata": {},
     "output_type": "execute_result"
    }
   ],
   "source": [
    "data = fgp.fit()\n",
    "list(data.keys())"
   ]
  },
  {
   "cell_type": "code",
   "execution_count": 7,
   "metadata": {
    "execution": {
     "iopub.execute_input": "2025-06-03T04:56:36.386825Z",
     "iopub.status.busy": "2025-06-03T04:56:36.386683Z",
     "iopub.status.idle": "2025-06-03T04:56:36.417510Z",
     "shell.execute_reply": "2025-06-03T04:56:36.417263Z"
    }
   },
   "outputs": [
    {
     "name": "stdout",
     "output_type": "stream",
     "text": [
      "pmean.shape = (3, 128)\n",
      "pvar.shape = (3, 128)\n",
      "q = 2.58\n",
      "ci_low.shape = (3, 128)\n",
      "ci_high.shape = (3, 128)\n",
      "l2 relative error = tensor([0.0522, 0.0661, 0.0817])\n",
      "pcov.shape = (3, 3, 128, 128)\n",
      "pcov2.shape = (3, 3, 128, 256)\n"
     ]
    }
   ],
   "source": [
    "pmean,pvar,q,ci_low,ci_high = fgp.post_ci(x,confidence=0.99)\n",
    "print(\"pmean.shape = %s\"%str(tuple(pmean.shape)))\n",
    "print(\"pvar.shape = %s\"%str(tuple(pvar.shape)))\n",
    "print(\"q = %.2f\"%q)\n",
    "print(\"ci_low.shape = %s\"%str(tuple(ci_low.shape)))\n",
    "print(\"ci_high.shape = %s\"%str(tuple(ci_high.shape)))\n",
    "print(\"l2 relative error =\",(torch.linalg.norm(y-pmean,dim=1)/torch.linalg.norm(y,dim=1)))\n",
    "pcov = fgp.post_cov(x,x)\n",
    "print(\"pcov.shape = %s\"%str(tuple(pcov.shape)))\n",
    "_range0,_rangen1 = torch.arange(pcov.size(0)),torch.arange(pcov.size(-1))\n",
    "assert torch.allclose(pcov[_range0,_range0][:,_rangen1,_rangen1],pvar) and (pvar>=0).all()\n",
    "pcov2 = fgp.post_cov(x,z)\n",
    "print(\"pcov2.shape = %s\"%str(tuple(pcov2.shape)))"
   ]
  },
  {
   "cell_type": "code",
   "execution_count": 8,
   "metadata": {
    "execution": {
     "iopub.execute_input": "2025-06-03T04:56:36.418654Z",
     "iopub.status.busy": "2025-06-03T04:56:36.418580Z",
     "iopub.status.idle": "2025-06-03T04:56:36.421882Z",
     "shell.execute_reply": "2025-06-03T04:56:36.421670Z"
    }
   },
   "outputs": [
    {
     "name": "stdout",
     "output_type": "stream",
     "text": [
      "pcmean = tensor([16.9068, 18.6291, -0.0262])\n",
      "pcvar = tensor([0.0033, 0.0040, 0.0014])\n",
      "cci_low = tensor([16.7588, 18.4661, -0.1238])\n",
      "cci_high tensor([17.0547, 18.7921,  0.0715])\n"
     ]
    }
   ],
   "source": [
    "pcmean,pcvar,q,cci_low,cci_high = fgp.post_cubature_ci(confidence=0.99)\n",
    "print(\"pcmean =\",pcmean)\n",
    "print(\"pcvar =\",pcvar)\n",
    "print(\"cci_low =\",cci_low)\n",
    "print(\"cci_high\",cci_high)"
   ]
  },
  {
   "cell_type": "markdown",
   "metadata": {},
   "source": [
    "## Project and Increase Sample Size"
   ]
  },
  {
   "cell_type": "code",
   "execution_count": 9,
   "metadata": {
    "execution": {
     "iopub.execute_input": "2025-06-03T04:56:36.422995Z",
     "iopub.status.busy": "2025-06-03T04:56:36.422925Z",
     "iopub.status.idle": "2025-06-03T04:56:36.485106Z",
     "shell.execute_reply": "2025-06-03T04:56:36.484830Z"
    }
   },
   "outputs": [],
   "source": [
    "n_new = fgp.n*torch.tensor([4,2,8])\n",
    "pcov_future = fgp.post_cov(x,z,n=n_new)\n",
    "pvar_future = fgp.post_var(x,n=n_new)\n",
    "pcvar_future = fgp.post_cubature_var(n=n_new)"
   ]
  },
  {
   "cell_type": "code",
   "execution_count": 10,
   "metadata": {
    "execution": {
     "iopub.execute_input": "2025-06-03T04:56:36.486451Z",
     "iopub.status.busy": "2025-06-03T04:56:36.486378Z",
     "iopub.status.idle": "2025-06-03T04:56:36.536105Z",
     "shell.execute_reply": "2025-06-03T04:56:36.535831Z"
    }
   },
   "outputs": [
    {
     "name": "stdout",
     "output_type": "stream",
     "text": [
      "torch.Size([48])\n",
      "torch.Size([4])\n",
      "torch.Size([56])\n",
      "l2 relative error = tensor([0.0394, 0.0602, 0.0023])\n"
     ]
    }
   ],
   "source": [
    "x_next = fgp.get_x_next(n_new)\n",
    "y_next = [fs[i](x_next[i]) for i in range(fgp.num_tasks)]\n",
    "for _y in y_next:\n",
    "    print(_y.shape)\n",
    "fgp.add_y_next(y_next)\n",
    "print(\"l2 relative error =\",(torch.linalg.norm(y-fgp.post_mean(x),dim=1)/torch.linalg.norm(y,dim=1)))\n",
    "assert torch.allclose(fgp.post_cov(x,z),pcov_future)\n",
    "assert torch.allclose(fgp.post_var(x),pvar_future)\n",
    "assert torch.allclose(fgp.post_cubature_var(),pcvar_future)"
   ]
  },
  {
   "cell_type": "code",
   "execution_count": 11,
   "metadata": {
    "execution": {
     "iopub.execute_input": "2025-06-03T04:56:36.537259Z",
     "iopub.status.busy": "2025-06-03T04:56:36.537178Z",
     "iopub.status.idle": "2025-06-03T04:56:36.832785Z",
     "shell.execute_reply": "2025-06-03T04:56:36.832477Z"
    }
   },
   "outputs": [
    {
     "name": "stdout",
     "output_type": "stream",
     "text": [
      "l2 relative error = tensor([0.0288, 0.0768, 0.0002])\n"
     ]
    }
   ],
   "source": [
    "data = fgp.fit(verbose=False)\n",
    "print(\"l2 relative error =\",(torch.linalg.norm(y-fgp.post_mean(x),dim=1)/torch.linalg.norm(y,dim=1)))"
   ]
  },
  {
   "cell_type": "code",
   "execution_count": 12,
   "metadata": {
    "execution": {
     "iopub.execute_input": "2025-06-03T04:56:36.834041Z",
     "iopub.status.busy": "2025-06-03T04:56:36.833963Z",
     "iopub.status.idle": "2025-06-03T04:56:37.359341Z",
     "shell.execute_reply": "2025-06-03T04:56:37.359009Z"
    }
   },
   "outputs": [],
   "source": [
    "n_new = fgp.n*torch.tensor([4,8,2])\n",
    "pcov_new = fgp.post_cov(x,z,n=n_new)\n",
    "pvar_new = fgp.post_var(x,n=n_new)\n",
    "pcvar_new = fgp.post_cubature_var(n=n_new)\n",
    "x_next = fgp.get_x_next(n_new)\n",
    "y_next = [fs[i](x_next[i]) for i in range(fgp.num_tasks)]\n",
    "fgp.add_y_next(y_next)\n",
    "assert torch.allclose(fgp.post_cov(x,z),pcov_new)\n",
    "assert torch.allclose(fgp.post_var(x),pvar_new)\n",
    "assert torch.allclose(fgp.post_cubature_var(),pcvar_new)"
   ]
  }
 ],
 "metadata": {
  "kernelspec": {
   "display_name": "Python 3",
   "language": "python",
   "name": "python3"
  },
  "language_info": {
   "codemirror_mode": {
    "name": "ipython",
    "version": 3
   },
   "file_extension": ".py",
   "mimetype": "text/x-python",
   "name": "python",
   "nbconvert_exporter": "python",
   "pygments_lexer": "ipython3",
   "version": "3.13.5"
  }
 },
 "nbformat": 4,
 "nbformat_minor": 4
}
