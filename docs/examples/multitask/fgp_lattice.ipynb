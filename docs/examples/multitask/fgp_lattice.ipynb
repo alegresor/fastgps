{
 "cells": [
  {
   "cell_type": "markdown",
   "metadata": {},
   "source": [
    "# Fast Multitask Lattice GP"
   ]
  },
  {
   "cell_type": "code",
   "execution_count": 1,
   "metadata": {
    "execution": {
     "iopub.execute_input": "2025-06-03T04:56:51.126251Z",
     "iopub.status.busy": "2025-06-03T04:56:51.126150Z",
     "iopub.status.idle": "2025-06-03T04:56:52.343381Z",
     "shell.execute_reply": "2025-06-03T04:56:52.343095Z"
    }
   },
   "outputs": [],
   "source": [
    "import fastgps\n",
    "import qmcpy as qp\n",
    "import torch\n",
    "import numpy as np"
   ]
  },
  {
   "cell_type": "code",
   "execution_count": 2,
   "metadata": {
    "execution": {
     "iopub.execute_input": "2025-06-03T04:56:52.344828Z",
     "iopub.status.busy": "2025-06-03T04:56:52.344721Z",
     "iopub.status.idle": "2025-06-03T04:56:52.346566Z",
     "shell.execute_reply": "2025-06-03T04:56:52.346344Z"
    }
   },
   "outputs": [],
   "source": [
    "device = \"cpu\"\n",
    "if device!=\"mps\":\n",
    "    torch.set_default_dtype(torch.float64)"
   ]
  },
  {
   "cell_type": "markdown",
   "metadata": {},
   "source": [
    "## True Function"
   ]
  },
  {
   "cell_type": "code",
   "execution_count": 3,
   "metadata": {
    "execution": {
     "iopub.execute_input": "2025-06-03T04:56:52.347896Z",
     "iopub.status.busy": "2025-06-03T04:56:52.347792Z",
     "iopub.status.idle": "2025-06-03T04:56:52.351479Z",
     "shell.execute_reply": "2025-06-03T04:56:52.351165Z"
    }
   },
   "outputs": [
    {
     "name": "stdout",
     "output_type": "stream",
     "text": [
      "x.shape = (128, 1)\n",
      "y.shape = (3, 128)\n",
      "z.shape = (256, 1)\n"
     ]
    }
   ],
   "source": [
    "def f_ackley(x, a=20, b=0.2, c=2*np.pi, scaling=32.768):\n",
    "    # https://www.sfu.ca/~ssurjano/ackley.html\n",
    "    assert x.ndim==2\n",
    "    x = 2*scaling*x-scaling\n",
    "    t1 = a*torch.exp(-b*torch.sqrt(torch.mean(x**2,1)))\n",
    "    t2 = torch.exp(torch.mean(torch.cos(c*x),1))\n",
    "    t3 = a+np.exp(1)\n",
    "    y = -t1-t2+t3\n",
    "    return y\n",
    "f_low_fidelity = lambda x: f_ackley(x,c=0)\n",
    "f_high_fidelity = lambda x: f_ackley(x)\n",
    "f_cos = lambda x: torch.cos(2*np.pi*x).sum(1)\n",
    "fs = [f_low_fidelity,f_high_fidelity,f_cos]\n",
    "d = 1 # dimension\n",
    "rng = torch.Generator().manual_seed(17)\n",
    "x = torch.rand((2**7,d),generator=rng).to(device) # random testing locations\n",
    "y = torch.vstack([f(x) for f in fs]) # true values at random testing locations\n",
    "z = torch.rand((2**8,d),generator=rng).to(device) # other random locations at which to evaluate covariance\n",
    "print(\"x.shape = %s\"%str(tuple(x.shape)))\n",
    "print(\"y.shape = %s\"%str(tuple(y.shape)))\n",
    "print(\"z.shape = %s\"%str(tuple(z.shape)))"
   ]
  },
  {
   "cell_type": "markdown",
   "metadata": {},
   "source": [
    "## Construct Fast GP"
   ]
  },
  {
   "cell_type": "code",
   "execution_count": 4,
   "metadata": {
    "execution": {
     "iopub.execute_input": "2025-06-03T04:56:52.367824Z",
     "iopub.status.busy": "2025-06-03T04:56:52.367685Z",
     "iopub.status.idle": "2025-06-03T04:56:52.377068Z",
     "shell.execute_reply": "2025-06-03T04:56:52.376855Z"
    }
   },
   "outputs": [
    {
     "name": "stdout",
     "output_type": "stream",
     "text": [
      "i = 0\n",
      "\tx_next[0].shape = (64, 1)\n",
      "\ty_next[0].shape = (64,)\n",
      "i = 1\n",
      "\tx_next[1].shape = (8, 1)\n",
      "\ty_next[1].shape = (8,)\n",
      "i = 2\n",
      "\tx_next[2].shape = (256, 1)\n",
      "\ty_next[2].shape = (256,)\n"
     ]
    }
   ],
   "source": [
    "fgp = fastgps.FastGPLattice(\n",
    "    qp.KernelMultiTask(\n",
    "        qp.KernelShiftInvar(d,torchify=True,device=device),\n",
    "        num_tasks=len(fs)),\n",
    "    seqs=7)\n",
    "x_next = fgp.get_x_next(n=[2**6,2**3,2**8])\n",
    "y_next = [fs[i](x_next[i]) for i in range(fgp.num_tasks)]\n",
    "fgp.add_y_next(y_next)\n",
    "assert len(x_next)==len(y_next)\n",
    "for i in range(len(x_next)):\n",
    "    print(\"i = %d\"%i)\n",
    "    print(\"\\tx_next[%d].shape = %s\"%(i,str(tuple(x_next[i].shape))))\n",
    "    print(\"\\ty_next[%d].shape = %s\"%(i,str(tuple(y_next[i].shape))))"
   ]
  },
  {
   "cell_type": "code",
   "execution_count": 5,
   "metadata": {
    "execution": {
     "iopub.execute_input": "2025-06-03T04:56:52.378234Z",
     "iopub.status.busy": "2025-06-03T04:56:52.378130Z",
     "iopub.status.idle": "2025-06-03T04:56:52.389782Z",
     "shell.execute_reply": "2025-06-03T04:56:52.389522Z"
    }
   },
   "outputs": [
    {
     "name": "stdout",
     "output_type": "stream",
     "text": [
      "pmean.shape = (3, 128)\n",
      "l2 relative error = tensor([0.0046, 0.0692, 0.0003])\n"
     ]
    }
   ],
   "source": [
    "pmean = fgp.post_mean(x)\n",
    "print(\"pmean.shape = %s\"%str(tuple(pmean.shape)))\n",
    "print(\"l2 relative error =\",(torch.linalg.norm(y-pmean,dim=1)/torch.linalg.norm(y,dim=1)))"
   ]
  },
  {
   "cell_type": "code",
   "execution_count": 6,
   "metadata": {
    "execution": {
     "iopub.execute_input": "2025-06-03T04:56:52.391001Z",
     "iopub.status.busy": "2025-06-03T04:56:52.390840Z",
     "iopub.status.idle": "2025-06-03T04:56:53.563385Z",
     "shell.execute_reply": "2025-06-03T04:56:53.563077Z"
    }
   },
   "outputs": [
    {
     "name": "stdout",
     "output_type": "stream",
     "text": [
      "     iter of 5.0e+03 | best loss  | loss       | term1      | term2     \n",
      "    ~~~~~~~~~~~~~~~~~~~~~~~~~~~~~~~~~~~~~~~~~~~~~~~~~~~~~~~~~~~~~~~~~~~~\n",
      "            0.00e+00 | 4.82e+03   | 4.82e+03   | 1.17e+04   | -2.67e+03 \n",
      "            5.00e+00 | -3.62e+02  | -3.62e+02  | 8.01e+02   | -2.13e+03 \n",
      "            1.00e+01 | -6.69e+02  | -6.69e+02  | 1.04e+02   | -2.04e+03 \n",
      "            1.50e+01 | -1.26e+03  | -1.26e+03  | 1.74e+02   | -3.30e+03 \n",
      "            2.00e+01 | -1.56e+03  | -1.56e+03  | 2.28e+02   | -3.95e+03 \n",
      "            2.50e+01 | -1.57e+03  | -1.57e+03  | 2.97e+02   | -4.04e+03 \n",
      "            3.00e+01 | -1.57e+03  | -1.57e+03  | 3.14e+02   | -4.06e+03 \n",
      "            3.50e+01 | -1.57e+03  | -1.57e+03  | 3.24e+02   | -4.08e+03 \n",
      "            4.00e+01 | -1.57e+03  | -1.57e+03  | 3.27e+02   | -4.08e+03 \n",
      "            4.50e+01 | -1.58e+03  | -1.58e+03  | 3.25e+02   | -4.08e+03 \n",
      "            5.00e+01 | -1.58e+03  | -1.58e+03  | 3.31e+02   | -4.09e+03 \n",
      "            5.50e+01 | -1.58e+03  | -1.58e+03  | 3.42e+02   | -4.10e+03 \n",
      "            6.00e+01 | -1.58e+03  | -1.58e+03  | 3.28e+02   | -4.10e+03 \n",
      "            6.50e+01 | -1.59e+03  | -1.59e+03  | 3.35e+02   | -4.11e+03 \n",
      "            7.00e+01 | -1.59e+03  | -1.59e+03  | 3.24e+02   | -4.10e+03 \n",
      "            7.50e+01 | -1.59e+03  | -1.59e+03  | 3.24e+02   | -4.10e+03 \n",
      "            8.00e+01 | -1.59e+03  | -1.59e+03  | 3.26e+02   | -4.11e+03 \n"
     ]
    },
    {
     "data": {
      "text/plain": [
       "[]"
      ]
     },
     "execution_count": 6,
     "metadata": {},
     "output_type": "execute_result"
    }
   ],
   "source": [
    "data = fgp.fit()\n",
    "list(data.keys())"
   ]
  },
  {
   "cell_type": "code",
   "execution_count": 7,
   "metadata": {
    "execution": {
     "iopub.execute_input": "2025-06-03T04:56:53.564736Z",
     "iopub.status.busy": "2025-06-03T04:56:53.564598Z",
     "iopub.status.idle": "2025-06-03T04:56:53.701564Z",
     "shell.execute_reply": "2025-06-03T04:56:53.701282Z"
    }
   },
   "outputs": [
    {
     "name": "stdout",
     "output_type": "stream",
     "text": [
      "pmean.shape = (3, 128)\n",
      "pvar.shape = (3, 128)\n",
      "q = 2.58\n",
      "ci_low.shape = (3, 128)\n",
      "ci_high.shape = (3, 128)\n",
      "l2 relative error = tensor([4.6876e-03, 5.7411e-02, 1.2034e-08])\n",
      "pcov.shape = (3, 3, 128, 128)\n",
      "pcov2.shape = (3, 3, 128, 256)\n",
      "\n",
      "pcov diag matches pvar: True\n",
      "non-negative pvar: True\n"
     ]
    }
   ],
   "source": [
    "pmean,pvar,q,ci_low,ci_high = fgp.post_ci(x,confidence=0.99)\n",
    "print(\"pmean.shape = %s\"%str(tuple(pmean.shape)))\n",
    "print(\"pvar.shape = %s\"%str(tuple(pvar.shape)))\n",
    "print(\"q = %.2f\"%q)\n",
    "print(\"ci_low.shape = %s\"%str(tuple(ci_low.shape)))\n",
    "print(\"ci_high.shape = %s\"%str(tuple(ci_high.shape)))\n",
    "print(\"l2 relative error =\",(torch.linalg.norm(y-pmean,dim=1)/torch.linalg.norm(y,dim=1)))\n",
    "pcov = fgp.post_cov(x,x)\n",
    "print(\"pcov.shape = %s\"%str(tuple(pcov.shape)))\n",
    "_range0,_rangen1 = torch.arange(pcov.size(0)),torch.arange(pcov.size(-1))\n",
    "pcov2 = fgp.post_cov(x,z)\n",
    "print(\"pcov2.shape = %s\"%str(tuple(pcov2.shape)))\n",
    "print(\"\\npcov diag matches pvar: %s\"%torch.allclose(pcov[_range0,_range0][:,_rangen1,_rangen1],pvar))\n",
    "print(\"non-negative pvar: %s\"%(pvar>=0).all().item())"
   ]
  },
  {
   "cell_type": "code",
   "execution_count": 8,
   "metadata": {
    "execution": {
     "iopub.execute_input": "2025-06-03T04:56:53.702732Z",
     "iopub.status.busy": "2025-06-03T04:56:53.702652Z",
     "iopub.status.idle": "2025-06-03T04:56:53.705706Z",
     "shell.execute_reply": "2025-06-03T04:56:53.705494Z"
    }
   },
   "outputs": [
    {
     "name": "stdout",
     "output_type": "stream",
     "text": [
      "pcmean = tensor([ 1.6943e+01,  1.8141e+01, -6.1351e-13])\n",
      "pcvar = tensor([3.4977e-05, 2.8269e-03, 9.8667e-13])\n",
      "cci_low = tensor([ 1.6928e+01,  1.8004e+01, -2.5586e-06])\n",
      "cci_high tensor([1.6958e+01, 1.8278e+01, 2.5586e-06])\n"
     ]
    }
   ],
   "source": [
    "pcmean,pcvar,q,cci_low,cci_high = fgp.post_cubature_ci(confidence=0.99)\n",
    "print(\"pcmean =\",pcmean)\n",
    "print(\"pcvar =\",pcvar)\n",
    "print(\"cci_low =\",cci_low)\n",
    "print(\"cci_high\",cci_high)"
   ]
  },
  {
   "cell_type": "markdown",
   "metadata": {},
   "source": [
    "## Project and Increase Sample Size"
   ]
  },
  {
   "cell_type": "code",
   "execution_count": 9,
   "metadata": {
    "execution": {
     "iopub.execute_input": "2025-06-03T04:56:53.706809Z",
     "iopub.status.busy": "2025-06-03T04:56:53.706730Z",
     "iopub.status.idle": "2025-06-03T04:56:54.329333Z",
     "shell.execute_reply": "2025-06-03T04:56:54.328983Z"
    }
   },
   "outputs": [],
   "source": [
    "n_new = fgp.n*torch.tensor([4,2,8],device=device)\n",
    "pcov_future = fgp.post_cov(x,z,n=n_new)\n",
    "pvar_future = fgp.post_var(x,n=n_new)\n",
    "pcvar_future = fgp.post_cubature_var(n=n_new)"
   ]
  },
  {
   "cell_type": "code",
   "execution_count": 10,
   "metadata": {
    "execution": {
     "iopub.execute_input": "2025-06-03T04:56:54.330889Z",
     "iopub.status.busy": "2025-06-03T04:56:54.330785Z",
     "iopub.status.idle": "2025-06-03T04:56:54.967926Z",
     "shell.execute_reply": "2025-06-03T04:56:54.967554Z"
    }
   },
   "outputs": [
    {
     "name": "stdout",
     "output_type": "stream",
     "text": [
      "torch.Size([192])\n",
      "torch.Size([8])\n",
      "torch.Size([1792])\n",
      "l2 relative error = tensor([3.4560e-04, 5.9628e-02, 4.2920e-11])\n"
     ]
    }
   ],
   "source": [
    "x_next = fgp.get_x_next(n_new)\n",
    "y_next = [fs[i](x_next[i]) for i in range(fgp.num_tasks)]\n",
    "for _y in y_next:\n",
    "    print(_y.shape)\n",
    "fgp.add_y_next(y_next)\n",
    "print(\"l2 relative error =\",(torch.linalg.norm(y-fgp.post_mean(x),dim=1)/torch.linalg.norm(y,dim=1)))\n",
    "assert torch.allclose(fgp.post_cov(x,z),pcov_future)\n",
    "assert torch.allclose(fgp.post_var(x),pvar_future)\n",
    "assert torch.allclose(fgp.post_cubature_var(),pcvar_future)"
   ]
  },
  {
   "cell_type": "code",
   "execution_count": 11,
   "metadata": {
    "execution": {
     "iopub.execute_input": "2025-06-03T04:56:54.969876Z",
     "iopub.status.busy": "2025-06-03T04:56:54.969656Z",
     "iopub.status.idle": "2025-06-03T04:56:58.978980Z",
     "shell.execute_reply": "2025-06-03T04:56:58.978671Z"
    }
   },
   "outputs": [
    {
     "name": "stdout",
     "output_type": "stream",
     "text": [
      "l2 relative error = tensor([3.4559e-04, 5.9670e-02, 6.0448e-12])\n"
     ]
    }
   ],
   "source": [
    "data = fgp.fit(verbose=False)\n",
    "print(\"l2 relative error =\",(torch.linalg.norm(y-fgp.post_mean(x),dim=1)/torch.linalg.norm(y,dim=1)))"
   ]
  },
  {
   "cell_type": "code",
   "execution_count": 12,
   "metadata": {
    "execution": {
     "iopub.execute_input": "2025-06-03T04:56:58.980442Z",
     "iopub.status.busy": "2025-06-03T04:56:58.980338Z",
     "iopub.status.idle": "2025-06-03T04:57:03.085557Z",
     "shell.execute_reply": "2025-06-03T04:57:03.085166Z"
    }
   },
   "outputs": [],
   "source": [
    "n_new = fgp.n*torch.tensor([4,8,2],device=device)\n",
    "pcov_new = fgp.post_cov(x,z,n=n_new)\n",
    "pvar_new = fgp.post_var(x,n=n_new)\n",
    "pcvar_new = fgp.post_cubature_var(n=n_new)\n",
    "x_next = fgp.get_x_next(n_new)\n",
    "y_next = [fs[i](x_next[i]) for i in range(fgp.num_tasks)]\n",
    "fgp.add_y_next(y_next)\n",
    "assert torch.allclose(fgp.post_cov(x,z),pcov_new)\n",
    "assert torch.allclose(fgp.post_var(x),pvar_new)\n",
    "assert torch.allclose(fgp.post_cubature_var(),pcvar_new)"
   ]
  },
  {
   "cell_type": "code",
   "execution_count": null,
   "metadata": {},
   "outputs": [],
   "source": []
  }
 ],
 "metadata": {
  "kernelspec": {
   "display_name": "fastgps",
   "language": "python",
   "name": "python3"
  },
  "language_info": {
   "codemirror_mode": {
    "name": "ipython",
    "version": 3
   },
   "file_extension": ".py",
   "mimetype": "text/x-python",
   "name": "python",
   "nbconvert_exporter": "python",
   "pygments_lexer": "ipython3",
   "version": "3.13.2"
  }
 },
 "nbformat": 4,
 "nbformat_minor": 2
}
