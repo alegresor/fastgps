{
 "cells": [
  {
   "cell_type": "markdown",
   "metadata": {},
   "source": [
    "# Fast Batch Multitask Net GP"
   ]
  },
  {
   "cell_type": "code",
   "execution_count": 1,
   "metadata": {
    "execution": {
     "iopub.execute_input": "2025-06-03T04:57:20.538328Z",
     "iopub.status.busy": "2025-06-03T04:57:20.538154Z",
     "iopub.status.idle": "2025-06-03T04:57:21.760427Z",
     "shell.execute_reply": "2025-06-03T04:57:21.760104Z"
    }
   },
   "outputs": [],
   "source": [
    "import fastgps\n",
    "import torch\n",
    "import numpy as np"
   ]
  },
  {
   "cell_type": "code",
   "execution_count": 2,
   "metadata": {
    "execution": {
     "iopub.execute_input": "2025-06-03T04:57:21.762153Z",
     "iopub.status.busy": "2025-06-03T04:57:21.761947Z",
     "iopub.status.idle": "2025-06-03T04:57:21.764094Z",
     "shell.execute_reply": "2025-06-03T04:57:21.763748Z"
    }
   },
   "outputs": [],
   "source": [
    "torch.set_default_dtype(torch.float64)"
   ]
  },
  {
   "cell_type": "markdown",
   "metadata": {},
   "source": [
    "## True Function"
   ]
  },
  {
   "cell_type": "code",
   "execution_count": 3,
   "metadata": {
    "execution": {
     "iopub.execute_input": "2025-06-03T04:57:21.765580Z",
     "iopub.status.busy": "2025-06-03T04:57:21.765463Z",
     "iopub.status.idle": "2025-06-03T04:57:21.769243Z",
     "shell.execute_reply": "2025-06-03T04:57:21.769016Z"
    }
   },
   "outputs": [
    {
     "name": "stdout",
     "output_type": "stream",
     "text": [
      "x.shape = (128, 6)\n",
      "y.shape = (2, 3, 4, 5, 128)\n",
      "z.shape = (64, 6)\n"
     ]
    }
   ],
   "source": [
    "d = 6\n",
    "rng = torch.Generator().manual_seed(7)\n",
    "shape_batch = [2,3,4]\n",
    "num_tasks = 5 \n",
    "def f(l, x):\n",
    "    consts = torch.arange(torch.prod(torch.tensor(shape_batch))).reshape(shape_batch)\n",
    "    y = (consts[...,None,None]*x**torch.arange(1,d+1)).sum(-1)+torch.randn(shape_batch+[x.size(0)],generator=rng)/(3+l)\n",
    "    return y\n",
    "x = torch.rand((2**7,d),generator=rng) # random testing locations\n",
    "y = torch.cat([f(l,x)[...,None,:] for l in range(num_tasks)],-2) # true values at random testing locations\n",
    "z = torch.rand((2**6,d),generator=rng) # other random locations at which to evaluate covariance\n",
    "print(\"x.shape = %s\"%str(tuple(x.shape)))\n",
    "print(\"y.shape = %s\"%str(tuple(y.shape)))\n",
    "print(\"z.shape = %s\"%str(tuple(z.shape)))"
   ]
  },
  {
   "cell_type": "markdown",
   "metadata": {},
   "source": [
    "## Construct Fast GP"
   ]
  },
  {
   "cell_type": "code",
   "execution_count": 4,
   "metadata": {
    "execution": {
     "iopub.execute_input": "2025-06-03T04:57:21.786769Z",
     "iopub.status.busy": "2025-06-03T04:57:21.786650Z",
     "iopub.status.idle": "2025-06-03T04:57:22.443938Z",
     "shell.execute_reply": "2025-06-03T04:57:22.443693Z"
    }
   },
   "outputs": [
    {
     "name": "stdout",
     "output_type": "stream",
     "text": [
      "fgp.scale.shape = (2, 3, 4, 1)\n",
      "fgp.lengthscales.shape = (3, 4, 6)\n",
      "fgp.noise.shape = (4, 1)\n",
      "fgp.factor_task_kernel.shape = (2, 3, 4, 5, 5)\n",
      "fgp.noise_task_kernel.shape = (3, 4, 5)\n"
     ]
    }
   ],
   "source": [
    "fgp = fastgps.FastGPDigitalNetB2(d,seed_for_seq=7,num_tasks=num_tasks,\n",
    "    shape_batch=shape_batch,\n",
    "    shape_scale = shape_batch[:]+[1],\n",
    "    shape_lengthscales = shape_batch[1:]+[d],\n",
    "    shape_noise = shape_batch[2:]+[1],\n",
    "    shape_factor_task_kernel = shape_batch[:]+[num_tasks,num_tasks],\n",
    "    shape_noise_task_kernel = shape_batch[1:]+[num_tasks]\n",
    ")\n",
    "print(\"fgp.scale.shape = %s\"%str(tuple(fgp.scale.shape)))\n",
    "print(\"fgp.lengthscales.shape = %s\"%str(tuple(fgp.lengthscales.shape)))\n",
    "print(\"fgp.noise.shape = %s\"%str(tuple(fgp.noise.shape)))\n",
    "print(\"fgp.factor_task_kernel.shape = %s\"%str(tuple(fgp.factor_task_kernel.shape)))\n",
    "print(\"fgp.noise_task_kernel.shape = %s\"%str(tuple(fgp.noise_task_kernel.shape)))"
   ]
  },
  {
   "cell_type": "code",
   "execution_count": 5,
   "metadata": {
    "execution": {
     "iopub.execute_input": "2025-06-03T04:57:22.445580Z",
     "iopub.status.busy": "2025-06-03T04:57:22.445308Z",
     "iopub.status.idle": "2025-06-03T04:57:22.449315Z",
     "shell.execute_reply": "2025-06-03T04:57:22.449078Z"
    }
   },
   "outputs": [
    {
     "name": "stdout",
     "output_type": "stream",
     "text": [
      "i = 0\n",
      "\tx_next[0].shape = (64, 6)\n",
      "\ty_next[0].shape = (2, 3, 4, 64)\n",
      "i = 1\n",
      "\tx_next[1].shape = (32, 6)\n",
      "\ty_next[1].shape = (2, 3, 4, 32)\n",
      "i = 2\n",
      "\tx_next[2].shape = (16, 6)\n",
      "\ty_next[2].shape = (2, 3, 4, 16)\n",
      "i = 3\n",
      "\tx_next[3].shape = (8, 6)\n",
      "\ty_next[3].shape = (2, 3, 4, 8)\n",
      "i = 4\n",
      "\tx_next[4].shape = (4, 6)\n",
      "\ty_next[4].shape = (2, 3, 4, 4)\n"
     ]
    }
   ],
   "source": [
    "x_next = fgp.get_x_next(n=2**torch.arange(num_tasks+1,1,-1))\n",
    "y_next = [f(l,x_next[l]) for l in range(num_tasks)]\n",
    "fgp.add_y_next(y_next)\n",
    "for i in range(len(x_next)):  \n",
    "    print(\"i = %d\"%i)\n",
    "    print(\"\\tx_next[%d].shape = %s\"%(i,str(tuple(x_next[i].shape))))\n",
    "    print(\"\\ty_next[%d].shape = %s\"%(i,str(tuple(y_next[i].shape))))"
   ]
  },
  {
   "cell_type": "code",
   "execution_count": 6,
   "metadata": {
    "execution": {
     "iopub.execute_input": "2025-06-03T04:57:22.450400Z",
     "iopub.status.busy": "2025-06-03T04:57:22.450329Z",
     "iopub.status.idle": "2025-06-03T04:57:22.526368Z",
     "shell.execute_reply": "2025-06-03T04:57:22.526115Z"
    }
   },
   "outputs": [
    {
     "name": "stdout",
     "output_type": "stream",
     "text": [
      "pmean.shape = (2, 3, 4, 5, 128)\n",
      "l2rerror.shape = (2, 3, 4, 5)\n"
     ]
    }
   ],
   "source": [
    "pmean = fgp.post_mean(x)\n",
    "print(\"pmean.shape = %s\"%str(tuple(pmean.shape)))\n",
    "l2rerror = torch.linalg.norm(y-pmean,dim=-1)/torch.linalg.norm(y,dim=-1)\n",
    "print(\"l2rerror.shape = %s\"%str(tuple(l2rerror.shape)))"
   ]
  },
  {
   "cell_type": "code",
   "execution_count": 7,
   "metadata": {
    "execution": {
     "iopub.execute_input": "2025-06-03T04:57:22.527638Z",
     "iopub.status.busy": "2025-06-03T04:57:22.527533Z",
     "iopub.status.idle": "2025-06-03T04:57:24.412456Z",
     "shell.execute_reply": "2025-06-03T04:57:24.412133Z"
    }
   },
   "outputs": [
    {
     "name": "stdout",
     "output_type": "stream",
     "text": [
      "     iter of 5.0e+03 | best loss  | loss       | term1      | term2     \n",
      "    ~~~~~~~~~~~~~~~~~~~~~~~~~~~~~~~~~~~~~~~~~~~~~~~~~~~~~~~~~~~~~~~~~~~~\n",
      "            0.00e+00 | 1.40e+04   | 1.40e+04   | 8.35e+02   | 2.17e+04  \n",
      "            5.00e+00 | 1.09e+04   | 1.09e+04   | 5.19e+03   | 1.12e+04  \n",
      "            1.00e+01 | 8.37e+03   | 8.37e+03   | 3.82e+03   | 7.45e+03  \n",
      "            1.50e+01 | 7.65e+03   | 7.65e+03   | 3.70e+03   | 6.12e+03  \n",
      "            2.00e+01 | 7.27e+03   | 7.27e+03   | 3.22e+03   | 5.84e+03  \n",
      "            2.50e+01 | 7.09e+03   | 7.09e+03   | 3.23e+03   | 5.47e+03  \n",
      "            3.00e+01 | 6.98e+03   | 6.98e+03   | 3.08e+03   | 5.42e+03  \n",
      "            3.50e+01 | 6.92e+03   | 6.92e+03   | 3.13e+03   | 5.24e+03  \n",
      "            4.00e+01 | 6.88e+03   | 6.88e+03   | 3.09e+03   | 5.19e+03  \n",
      "            4.50e+01 | 6.85e+03   | 6.85e+03   | 3.01e+03   | 5.22e+03  \n",
      "            5.00e+01 | 6.82e+03   | 6.82e+03   | 3.06e+03   | 5.12e+03  \n",
      "            5.50e+01 | 6.81e+03   | 6.81e+03   | 3.07e+03   | 5.08e+03  \n",
      "            6.00e+01 | 6.80e+03   | 6.80e+03   | 3.01e+03   | 5.11e+03  \n",
      "            6.50e+01 | 6.79e+03   | 6.79e+03   | 3.02e+03   | 5.09e+03  \n",
      "            7.00e+01 | 6.78e+03   | 6.78e+03   | 3.01e+03   | 5.08e+03  \n",
      "            7.50e+01 | 6.77e+03   | 6.77e+03   | 3.03e+03   | 5.05e+03  \n",
      "            8.00e+01 | 6.77e+03   | 6.77e+03   | 3.03e+03   | 5.04e+03  \n",
      "            8.50e+01 | 6.76e+03   | 6.76e+03   | 3.03e+03   | 5.03e+03  \n",
      "            9.00e+01 | 6.76e+03   | 6.76e+03   | 3.03e+03   | 5.02e+03  \n",
      "            9.50e+01 | 6.76e+03   | 6.76e+03   | 3.02e+03   | 5.03e+03  \n",
      "            9.70e+01 | 6.76e+03   | 6.76e+03   | 3.01e+03   | 5.03e+03  \n"
     ]
    },
    {
     "data": {
      "text/plain": [
       "['iterations']"
      ]
     },
     "execution_count": 7,
     "metadata": {},
     "output_type": "execute_result"
    }
   ],
   "source": [
    "data = fgp.fit(stop_crit_improvement_threshold=1e3)\n",
    "list(data.keys())"
   ]
  },
  {
   "cell_type": "code",
   "execution_count": 8,
   "metadata": {
    "execution": {
     "iopub.execute_input": "2025-06-03T04:57:24.414018Z",
     "iopub.status.busy": "2025-06-03T04:57:24.413829Z",
     "iopub.status.idle": "2025-06-03T04:57:25.992349Z",
     "shell.execute_reply": "2025-06-03T04:57:25.992052Z"
    }
   },
   "outputs": [
    {
     "name": "stdout",
     "output_type": "stream",
     "text": [
      "pmean.shape = (2, 3, 4, 5, 128)\n",
      "pvar.shape = (2, 3, 4, 5, 128)\n",
      "q = 2.58\n",
      "ci_low.shape = (2, 3, 4, 5, 128)\n",
      "ci_high.shape = (2, 3, 4, 5, 128)\n",
      "l2rerror.shape = (2, 3, 4, 5)\n",
      "pcov.shape = (2, 3, 4, 5, 5, 128, 128)\n",
      "pcov2.shape = (2, 3, 4, 5, 5, 128, 64)\n"
     ]
    }
   ],
   "source": [
    "pmean,pvar,q,ci_low,ci_high = fgp.post_ci(x,confidence=0.99)\n",
    "print(\"pmean.shape = %s\"%str(tuple(pmean.shape)))\n",
    "print(\"pvar.shape = %s\"%str(tuple(pvar.shape)))\n",
    "print(\"q = %.2f\"%q)\n",
    "print(\"ci_low.shape = %s\"%str(tuple(ci_low.shape)))\n",
    "print(\"ci_high.shape = %s\"%str(tuple(ci_high.shape)))\n",
    "l2rerror = torch.linalg.norm(y-pmean,dim=-1)/torch.linalg.norm(y,dim=-1)\n",
    "print(\"l2rerror.shape = %s\"%str(tuple(l2rerror.shape)))\n",
    "pcov = fgp.post_cov(x,x)\n",
    "print(\"pcov.shape = %s\"%str(tuple(pcov.shape)))\n",
    "_range0,_rangen1 = torch.arange(pcov.size(-3)),torch.arange(pcov.size(-1))\n",
    "assert torch.allclose(pcov[...,_range0,_range0,:,:][...,_rangen1,_rangen1],pvar) and (pvar>=0).all()\n",
    "pcov2 = fgp.post_cov(x,z)\n",
    "print(\"pcov2.shape = %s\"%str(tuple(pcov2.shape)))"
   ]
  },
  {
   "cell_type": "code",
   "execution_count": 9,
   "metadata": {
    "execution": {
     "iopub.execute_input": "2025-06-03T04:57:25.993627Z",
     "iopub.status.busy": "2025-06-03T04:57:25.993519Z",
     "iopub.status.idle": "2025-06-03T04:57:25.997382Z",
     "shell.execute_reply": "2025-06-03T04:57:25.997064Z"
    }
   },
   "outputs": [
    {
     "name": "stdout",
     "output_type": "stream",
     "text": [
      "pcmean.shape = (2, 3, 4, 5)\n",
      "pcvar.shape = (2, 3, 4, 5)\n",
      "cci_low.shape = (2, 3, 4, 5)\n",
      "cci_high.shape = (2, 3, 4, 5)\n",
      "pccov.shape = (2, 3, 4, 5, 5)\n"
     ]
    }
   ],
   "source": [
    "pcmean,pcvar,q,cci_low,cci_high = fgp.post_cubature_ci(confidence=0.99)\n",
    "print(\"pcmean.shape = %s\"%str(tuple(pcmean.shape)))\n",
    "print(\"pcvar.shape = %s\"%str(tuple(pcvar.shape)))\n",
    "print(\"cci_low.shape = %s\"%str(tuple(cci_low.shape)))\n",
    "print(\"cci_high.shape = %s\"%str(tuple(cci_high.shape)))\n",
    "pccov = fgp.post_cubature_cov()\n",
    "print(\"pccov.shape = %s\"%str(tuple(pccov.shape)))"
   ]
  },
  {
   "cell_type": "markdown",
   "metadata": {},
   "source": [
    "## Project and Increase Sample Size"
   ]
  },
  {
   "cell_type": "code",
   "execution_count": 10,
   "metadata": {
    "execution": {
     "iopub.execute_input": "2025-06-03T04:57:25.998917Z",
     "iopub.status.busy": "2025-06-03T04:57:25.998766Z",
     "iopub.status.idle": "2025-06-03T04:57:27.112178Z",
     "shell.execute_reply": "2025-06-03T04:57:27.111886Z"
    }
   },
   "outputs": [],
   "source": [
    "n_new = fgp.n*2\n",
    "pcov_future = fgp.post_cov(x,z,n=n_new)\n",
    "pvar_future = fgp.post_var(x,n=n_new)\n",
    "pcvar_future = fgp.post_cubature_var(n=n_new)"
   ]
  },
  {
   "cell_type": "code",
   "execution_count": 11,
   "metadata": {
    "execution": {
     "iopub.execute_input": "2025-06-03T04:57:27.113622Z",
     "iopub.status.busy": "2025-06-03T04:57:27.113530Z",
     "iopub.status.idle": "2025-06-03T04:57:28.308721Z",
     "shell.execute_reply": "2025-06-03T04:57:28.308332Z"
    }
   },
   "outputs": [
    {
     "name": "stdout",
     "output_type": "stream",
     "text": [
      "torch.Size([2, 3, 4, 64])\n",
      "torch.Size([2, 3, 4, 32])\n",
      "torch.Size([2, 3, 4, 16])\n",
      "torch.Size([2, 3, 4, 8])\n",
      "torch.Size([2, 3, 4, 4])\n",
      "l2rerror.shape = (2, 3, 4, 5)\n"
     ]
    }
   ],
   "source": [
    "x_next = fgp.get_x_next(n_new)\n",
    "y_next = [f(l,x_next[l]) for l in range(num_tasks)]\n",
    "for _y in y_next:\n",
    "    print(_y.shape)\n",
    "fgp.add_y_next(y_next)\n",
    "l2rerror = torch.linalg.norm(y-fgp.post_mean(x),dim=-1)/torch.linalg.norm(y,dim=-1)\n",
    "print(\"l2rerror.shape = %s\"%str(tuple(l2rerror.shape)))\n",
    "assert torch.allclose(fgp.post_cov(x,z),pcov_future)\n",
    "assert torch.allclose(fgp.post_var(x),pvar_future)\n",
    "assert torch.allclose(fgp.post_cubature_var(),pcvar_future)"
   ]
  },
  {
   "cell_type": "code",
   "execution_count": 12,
   "metadata": {
    "execution": {
     "iopub.execute_input": "2025-06-03T04:57:28.310227Z",
     "iopub.status.busy": "2025-06-03T04:57:28.310125Z",
     "iopub.status.idle": "2025-06-03T04:57:28.499596Z",
     "shell.execute_reply": "2025-06-03T04:57:28.499303Z"
    }
   },
   "outputs": [
    {
     "name": "stdout",
     "output_type": "stream",
     "text": [
      "l2rerror.shape = (2, 3, 4, 5)\n"
     ]
    }
   ],
   "source": [
    "data = fgp.fit(iterations=5,verbose=False)\n",
    "l2rerror = torch.linalg.norm(y-fgp.post_mean(x),dim=-1)/torch.linalg.norm(y,dim=-1)\n",
    "print(\"l2rerror.shape = %s\"%str(tuple(l2rerror.shape)))"
   ]
  },
  {
   "cell_type": "code",
   "execution_count": 13,
   "metadata": {
    "execution": {
     "iopub.execute_input": "2025-06-03T04:57:28.501028Z",
     "iopub.status.busy": "2025-06-03T04:57:28.500933Z",
     "iopub.status.idle": "2025-06-03T04:57:38.872074Z",
     "shell.execute_reply": "2025-06-03T04:57:38.871368Z"
    }
   },
   "outputs": [],
   "source": [
    "n_new = fgp.n*2\n",
    "pcov_new = fgp.post_cov(x,z,n=n_new)\n",
    "pvar_new = fgp.post_var(x,n=n_new)\n",
    "pcvar_new = fgp.post_cubature_var(n=n_new)\n",
    "x_next = fgp.get_x_next(n_new)\n",
    "y_next = [f(l,x_next[l]) for l in range(num_tasks)]\n",
    "fgp.add_y_next(y_next)\n",
    "assert torch.allclose(fgp.post_cov(x,z),pcov_new)\n",
    "assert torch.allclose(fgp.post_var(x),pvar_new)\n",
    "assert torch.allclose(fgp.post_cubature_var(),pcvar_new)"
   ]
  }
 ],
 "metadata": {
  "kernelspec": {
   "display_name": "fastgps",
   "language": "python",
   "name": "python3"
  },
  "language_info": {
   "codemirror_mode": {
    "name": "ipython",
    "version": 3
   },
   "file_extension": ".py",
   "mimetype": "text/x-python",
   "name": "python",
   "nbconvert_exporter": "python",
   "pygments_lexer": "ipython3",
   "version": "3.9.23"
  }
 },
 "nbformat": 4,
 "nbformat_minor": 2
}
